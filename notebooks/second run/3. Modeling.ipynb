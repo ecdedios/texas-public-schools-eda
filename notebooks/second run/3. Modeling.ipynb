{
 "cells": [
  {
   "cell_type": "markdown",
   "id": "ab66dc01",
   "metadata": {},
   "source": [
    "# Executive Summary\n",
    "\n",
    "This notebook will attempt to answer the following research question:\n",
    "\n",
    "    What's money got to do with it?"
   ]
  },
  {
   "cell_type": "markdown",
   "id": "e592e0d9",
   "metadata": {},
   "source": [
    "## PLANNING\n",
    "\n",
    "- [X] Planning\n",
    "    - [X] import libraries/packages\n",
    "    - [X] configure notebook environment\n",
    "    - [X] define helper functions\n",
    "- [X] Acquire data\n",
    "    - [X] get PEIMS financial data\n",
    "    - [X] get STAAR performance data\n",
    "- [X] Prepare the data\n",
    "    - [X] prepare PEIMS data\n",
    "        - [X] get rid of unwanted columns\n",
    "        - [x] get rid of NaNs\n",
    "    - [X] prepare STAAR data\n",
    "        - [X] get rid of duplicates\n",
    "        - [X] get rid of unwanted columns\n",
    "        - [X] get rid of NaNs\n",
    "        - [X] create new columns\n",
    "        - [X] merge two datasets together\n",
    "- [X] Explore the data\n",
    "    - [X] get to know the master dataset\n",
    "    - [X] feature engineering\n",
    "- [X] Modeling\n",
    "    - [X] create, fit, use XGBoost\n",
    "    - [X] gridsearch\n",
    "    - [X] retrain model using best hyperparameters\n",
    "    - [X] extract feature importances"
   ]
  },
  {
   "cell_type": "code",
   "execution_count": 1,
   "id": "c6b0a068",
   "metadata": {},
   "outputs": [],
   "source": [
    "# for manipulating dataframes\n",
    "import pandas as pd\n",
    "import numpy as np\n",
    "\n",
    "# For hypothesis testing\n",
    "from scipy import stats\n",
    "from scipy.stats import shapiro\n",
    "\n",
    "# For data preparation\n",
    "from sklearn.model_selection import train_test_split\n",
    "\n",
    "# For modeling\n",
    "import xgboost as xgb\n",
    "from xgboost import XGBClassifier\n",
    "from sklearn.metrics import accuracy_score\n",
    "from xgboost import plot_importance\n",
    "# for visualizations\n",
    "%matplotlib inline\n",
    "import matplotlib.pyplot as plt\n",
    "import seaborn as sns\n",
    "\n",
    "# to print out all the outputs\n",
    "from IPython.core.interactiveshell import InteractiveShell\n",
    "InteractiveShell.ast_node_interactivity = \"all\"\n",
    "\n",
    "# set display options\n",
    "pd.set_option('display.max_columns', None)\n",
    "pd.set_option('display.max_rows', None)\n",
    "pd.set_option('display.max_colwidth', None)\n",
    "\n",
    "ALPHA = 0.05"
   ]
  },
  {
   "cell_type": "code",
   "execution_count": 2,
   "id": "33717b01",
   "metadata": {},
   "outputs": [],
   "source": [
    "def viz_correlation(df, graph_title, *cols):\n",
    "     \n",
    "    dfx = df[list(cols)]\n",
    "    \n",
    "    # Use the default Pearson for continuous variables\n",
    "    corr_matrix = dfx.corr(method ='pearson')\n",
    "\n",
    "    # Setup\n",
    "    fig, ax = plt.subplots(figsize=(16,8))\n",
    "\n",
    "    # vmin and vmax control the range of the colormap\n",
    "    sns.heatmap(corr_matrix, cmap='RdBu', annot=True, fmt='.2f',\n",
    "               vmin=-1, vmax=1)\n",
    "\n",
    "    plt.title(graph_title)\n",
    "\n",
    "    # Add tight_layout to ensure the labels don't get cut off\n",
    "    plt.tight_layout()\n",
    "    plt.show()"
   ]
  },
  {
   "cell_type": "code",
   "execution_count": 3,
   "id": "77ca159d",
   "metadata": {},
   "outputs": [],
   "source": [
    "def viz_scatter(df, graph_title, col1, col2):\n",
    "    plt.figure(figsize=(16, 8))\n",
    "    plt.scatter(df[col1], df[col2], alpha=0.5)\n",
    "    plt.xlabel(col1) #x label\n",
    "    plt.ylabel(col2) #y label\n",
    "    plt.title(graph_title)\n",
    "    plt.show()"
   ]
  },
  {
   "cell_type": "code",
   "execution_count": 4,
   "id": "1587a4f7",
   "metadata": {},
   "outputs": [],
   "source": [
    "def viz_pairplot(df, graph_title, *cols):\n",
    "     \n",
    "    dfx = df[list(cols)]\n",
    "    plt.figure(figsize=(16, 8))\n",
    "    sns.pairplot(dfx)\n",
    "    plt.title(graph_title)\n",
    "    plt.show()"
   ]
  },
  {
   "cell_type": "code",
   "execution_count": 5,
   "id": "3503ed25",
   "metadata": {},
   "outputs": [],
   "source": [
    "def loop_levene(df1, df2):\n",
    "    for column in df1.columns:\n",
    "        result = stats.levene(df1[column], df2[column])[1]\n",
    "        if result > ALPHA:\n",
    "            interpretation = 'insignificant - HOMOGENOUS'\n",
    "        else:\n",
    "            interpretation = 'significant - HETEROGENOUS'\n",
    "        print(result, '-', column, ' - ', interpretation)"
   ]
  },
  {
   "cell_type": "code",
   "execution_count": 6,
   "id": "f3a558f2",
   "metadata": {},
   "outputs": [],
   "source": [
    "def loop_shapiro(df):\n",
    "    for column in df.columns:\n",
    "        statistic, result = shapiro(df[column])\n",
    "        if result > ALPHA:\n",
    "            interpretation = 'insignificant - NORMAL'\n",
    "        else:\n",
    "            interpretation = 'significant - ABNORMAL'\n",
    "        print(result, '-', column, ' - ', interpretation)"
   ]
  },
  {
   "cell_type": "code",
   "execution_count": 7,
   "id": "477708d7",
   "metadata": {},
   "outputs": [],
   "source": [
    "def loop_ttest(df1, df2):\n",
    "    for column in df1.columns:\n",
    "        result = stats.ttest_ind(df1[column], df2[column])[1]\n",
    "        if result > ALPHA:\n",
    "            interpretation = 'insignificant - SAME'\n",
    "        else:\n",
    "            interpretation = 'significant - DIFFERENT'\n",
    "        print(result, '-', column, ' - ', interpretation)"
   ]
  },
  {
   "cell_type": "code",
   "execution_count": 8,
   "id": "caa8edf3",
   "metadata": {},
   "outputs": [],
   "source": [
    "def viz_boxplot(df, col1, col2, graph_title):\n",
    "    plt.figure(figsize=(16, 8))\n",
    "    sns.boxplot(x = col1, y = col2, data = df)\n",
    "    plt.title(graph_title)\n",
    "    plt.show()"
   ]
  },
  {
   "cell_type": "code",
   "execution_count": 9,
   "id": "03b1d941",
   "metadata": {},
   "outputs": [],
   "source": [
    "def viz_violin(df, col1, col2, graph_title):\n",
    "    plt.figure(figsize=(16, 8))\n",
    "    sns.violinplot(x = col1, y = col2, data = df)\n",
    "    plt.title(graph_title)\n",
    "    plt.show()"
   ]
  },
  {
   "cell_type": "code",
   "execution_count": 10,
   "id": "bac2f5fe",
   "metadata": {},
   "outputs": [],
   "source": [
    "def my_plot_importance(booster, figsize, **kwargs): \n",
    "    fig, ax = plt.subplots(1,1,figsize=figsize)\n",
    "    \n",
    "    return plot_importance(booster=booster, ax=ax, **kwargs)"
   ]
  },
  {
   "cell_type": "markdown",
   "id": "60977796",
   "metadata": {},
   "source": [
    "## ACQUIRE DATA"
   ]
  },
  {
   "cell_type": "code",
   "execution_count": 11,
   "id": "96956fcb",
   "metadata": {
    "scrolled": true
   },
   "outputs": [],
   "source": [
    "# Get the combined PEIMS and STAAR datasets\n",
    "df = pd.read_csv('../data/inter/clean_efficient_2019.csv')"
   ]
  },
  {
   "cell_type": "code",
   "execution_count": 12,
   "id": "6a8832df",
   "metadata": {},
   "outputs": [
    {
     "data": {
      "text/html": [
       "<div>\n",
       "<style scoped>\n",
       "    .dataframe tbody tr th:only-of-type {\n",
       "        vertical-align: middle;\n",
       "    }\n",
       "\n",
       "    .dataframe tbody tr th {\n",
       "        vertical-align: top;\n",
       "    }\n",
       "\n",
       "    .dataframe thead th {\n",
       "        text-align: right;\n",
       "    }\n",
       "</style>\n",
       "<table border=\"1\" class=\"dataframe\">\n",
       "  <thead>\n",
       "    <tr style=\"text-align: right;\">\n",
       "      <th></th>\n",
       "      <th>Payroll</th>\n",
       "      <th>Professional &amp; Contracted</th>\n",
       "      <th>Supplies &amp; Materials</th>\n",
       "      <th>Other Operating</th>\n",
       "      <th>Instruction &amp; Transfer</th>\n",
       "      <th>Instructional Resource Media</th>\n",
       "      <th>Curriculum/Staff Development</th>\n",
       "      <th>Instructional Leadership</th>\n",
       "      <th>Campus Administration</th>\n",
       "      <th>Guidance &amp; Counseling</th>\n",
       "      <th>Social Work</th>\n",
       "      <th>Health Services</th>\n",
       "      <th>Transportation</th>\n",
       "      <th>Food Service</th>\n",
       "      <th>Extracurricular</th>\n",
       "      <th>General Administration</th>\n",
       "      <th>Plant Maintenance/Operation</th>\n",
       "      <th>Security &amp; Monitoring</th>\n",
       "      <th>Data Processing</th>\n",
       "      <th>Community Services</th>\n",
       "      <th>Regular Program</th>\n",
       "      <th>Gifted &amp; Talented Program</th>\n",
       "      <th>Career &amp; Technology Program</th>\n",
       "      <th>Students with Disabilities</th>\n",
       "      <th>State Compensatory Education</th>\n",
       "      <th>Bilingual Program</th>\n",
       "      <th>High School Allotment</th>\n",
       "      <th>Pre-K</th>\n",
       "      <th>Pre-K Bilingual</th>\n",
       "      <th>Pre-K Comp Ed</th>\n",
       "      <th>Pre-K Regular</th>\n",
       "      <th>Pre-K Special Education</th>\n",
       "      <th>Athletics Program</th>\n",
       "      <th>Undistributed Program</th>\n",
       "      <th>Other Uses</th>\n",
       "      <th>Efficient</th>\n",
       "    </tr>\n",
       "  </thead>\n",
       "  <tbody>\n",
       "    <tr>\n",
       "      <th>0</th>\n",
       "      <td>6025217</td>\n",
       "      <td>1075904</td>\n",
       "      <td>648206</td>\n",
       "      <td>809559</td>\n",
       "      <td>4649118</td>\n",
       "      <td>66490</td>\n",
       "      <td>4986</td>\n",
       "      <td>270353</td>\n",
       "      <td>306385</td>\n",
       "      <td>998314</td>\n",
       "      <td>0</td>\n",
       "      <td>37882</td>\n",
       "      <td>293070</td>\n",
       "      <td>287406</td>\n",
       "      <td>413755</td>\n",
       "      <td>284553</td>\n",
       "      <td>773085</td>\n",
       "      <td>0</td>\n",
       "      <td>173489</td>\n",
       "      <td>0</td>\n",
       "      <td>2778638</td>\n",
       "      <td>3968</td>\n",
       "      <td>251350</td>\n",
       "      <td>3005575</td>\n",
       "      <td>273747</td>\n",
       "      <td>9599</td>\n",
       "      <td>40285</td>\n",
       "      <td>32890</td>\n",
       "      <td>0</td>\n",
       "      <td>0</td>\n",
       "      <td>0</td>\n",
       "      <td>0</td>\n",
       "      <td>304174</td>\n",
       "      <td>1858660</td>\n",
       "      <td>48633</td>\n",
       "      <td>0</td>\n",
       "    </tr>\n",
       "    <tr>\n",
       "      <th>1</th>\n",
       "      <td>535193214</td>\n",
       "      <td>51992341</td>\n",
       "      <td>54801828</td>\n",
       "      <td>9454304</td>\n",
       "      <td>371361946</td>\n",
       "      <td>1585886</td>\n",
       "      <td>9927708</td>\n",
       "      <td>10644882</td>\n",
       "      <td>41901599</td>\n",
       "      <td>27624583</td>\n",
       "      <td>1534271</td>\n",
       "      <td>5910337</td>\n",
       "      <td>32321948</td>\n",
       "      <td>45130399</td>\n",
       "      <td>9898476</td>\n",
       "      <td>15115454</td>\n",
       "      <td>58531070</td>\n",
       "      <td>7816390</td>\n",
       "      <td>10687937</td>\n",
       "      <td>1448801</td>\n",
       "      <td>257772938</td>\n",
       "      <td>7010472</td>\n",
       "      <td>21044878</td>\n",
       "      <td>82627668</td>\n",
       "      <td>69915588</td>\n",
       "      <td>11437734</td>\n",
       "      <td>5319962</td>\n",
       "      <td>19592708</td>\n",
       "      <td>443275</td>\n",
       "      <td>0</td>\n",
       "      <td>5058965</td>\n",
       "      <td>1925756</td>\n",
       "      <td>4102825</td>\n",
       "      <td>172616914</td>\n",
       "      <td>801985</td>\n",
       "      <td>0</td>\n",
       "    </tr>\n",
       "    <tr>\n",
       "      <th>2</th>\n",
       "      <td>23658322</td>\n",
       "      <td>2788430</td>\n",
       "      <td>3551671</td>\n",
       "      <td>838431</td>\n",
       "      <td>17335920</td>\n",
       "      <td>333359</td>\n",
       "      <td>452741</td>\n",
       "      <td>422843</td>\n",
       "      <td>1766755</td>\n",
       "      <td>1069885</td>\n",
       "      <td>69696</td>\n",
       "      <td>347775</td>\n",
       "      <td>1406268</td>\n",
       "      <td>2131027</td>\n",
       "      <td>1298174</td>\n",
       "      <td>1047429</td>\n",
       "      <td>2670080</td>\n",
       "      <td>219764</td>\n",
       "      <td>236002</td>\n",
       "      <td>29136</td>\n",
       "      <td>12845578</td>\n",
       "      <td>166556</td>\n",
       "      <td>1359357</td>\n",
       "      <td>3786427</td>\n",
       "      <td>2660496</td>\n",
       "      <td>228663</td>\n",
       "      <td>581251</td>\n",
       "      <td>304299</td>\n",
       "      <td>0</td>\n",
       "      <td>46039</td>\n",
       "      <td>165838</td>\n",
       "      <td>0</td>\n",
       "      <td>968466</td>\n",
       "      <td>7935761</td>\n",
       "      <td>1375788</td>\n",
       "      <td>0</td>\n",
       "    </tr>\n",
       "    <tr>\n",
       "      <th>3</th>\n",
       "      <td>9093950</td>\n",
       "      <td>1514689</td>\n",
       "      <td>784631</td>\n",
       "      <td>303052</td>\n",
       "      <td>7043892</td>\n",
       "      <td>117860</td>\n",
       "      <td>33175</td>\n",
       "      <td>66374</td>\n",
       "      <td>574699</td>\n",
       "      <td>202086</td>\n",
       "      <td>0</td>\n",
       "      <td>33657</td>\n",
       "      <td>422887</td>\n",
       "      <td>630202</td>\n",
       "      <td>598484</td>\n",
       "      <td>558948</td>\n",
       "      <td>1248908</td>\n",
       "      <td>13530</td>\n",
       "      <td>151120</td>\n",
       "      <td>500</td>\n",
       "      <td>5313722</td>\n",
       "      <td>93</td>\n",
       "      <td>852319</td>\n",
       "      <td>1028587</td>\n",
       "      <td>799037</td>\n",
       "      <td>0</td>\n",
       "      <td>101243</td>\n",
       "      <td>0</td>\n",
       "      <td>0</td>\n",
       "      <td>0</td>\n",
       "      <td>0</td>\n",
       "      <td>0</td>\n",
       "      <td>339045</td>\n",
       "      <td>3262276</td>\n",
       "      <td>102465</td>\n",
       "      <td>0</td>\n",
       "    </tr>\n",
       "    <tr>\n",
       "      <th>4</th>\n",
       "      <td>424067526</td>\n",
       "      <td>25806707</td>\n",
       "      <td>49574241</td>\n",
       "      <td>7036995</td>\n",
       "      <td>311117619</td>\n",
       "      <td>5383406</td>\n",
       "      <td>10842764</td>\n",
       "      <td>6127983</td>\n",
       "      <td>28519574</td>\n",
       "      <td>21683603</td>\n",
       "      <td>790834</td>\n",
       "      <td>7124220</td>\n",
       "      <td>18036658</td>\n",
       "      <td>28485172</td>\n",
       "      <td>9783351</td>\n",
       "      <td>8567583</td>\n",
       "      <td>36029086</td>\n",
       "      <td>7063105</td>\n",
       "      <td>3407315</td>\n",
       "      <td>3523196</td>\n",
       "      <td>249219165</td>\n",
       "      <td>927436</td>\n",
       "      <td>12721301</td>\n",
       "      <td>57980032</td>\n",
       "      <td>57183458</td>\n",
       "      <td>13027250</td>\n",
       "      <td>3233671</td>\n",
       "      <td>2451253</td>\n",
       "      <td>0</td>\n",
       "      <td>44308</td>\n",
       "      <td>0</td>\n",
       "      <td>0</td>\n",
       "      <td>3149577</td>\n",
       "      <td>106592326</td>\n",
       "      <td>0</td>\n",
       "      <td>0</td>\n",
       "    </tr>\n",
       "  </tbody>\n",
       "</table>\n",
       "</div>"
      ],
      "text/plain": [
       "     Payroll  Professional & Contracted  Supplies & Materials  \\\n",
       "0    6025217                    1075904                648206   \n",
       "1  535193214                   51992341              54801828   \n",
       "2   23658322                    2788430               3551671   \n",
       "3    9093950                    1514689                784631   \n",
       "4  424067526                   25806707              49574241   \n",
       "\n",
       "   Other Operating  Instruction & Transfer  Instructional Resource Media  \\\n",
       "0           809559                 4649118                         66490   \n",
       "1          9454304               371361946                       1585886   \n",
       "2           838431                17335920                        333359   \n",
       "3           303052                 7043892                        117860   \n",
       "4          7036995               311117619                       5383406   \n",
       "\n",
       "   Curriculum/Staff Development  Instructional Leadership  \\\n",
       "0                          4986                    270353   \n",
       "1                       9927708                  10644882   \n",
       "2                        452741                    422843   \n",
       "3                         33175                     66374   \n",
       "4                      10842764                   6127983   \n",
       "\n",
       "   Campus Administration  Guidance & Counseling  Social Work  Health Services  \\\n",
       "0                 306385                 998314            0            37882   \n",
       "1               41901599               27624583      1534271          5910337   \n",
       "2                1766755                1069885        69696           347775   \n",
       "3                 574699                 202086            0            33657   \n",
       "4               28519574               21683603       790834          7124220   \n",
       "\n",
       "   Transportation  Food Service  Extracurricular  General Administration  \\\n",
       "0          293070        287406           413755                  284553   \n",
       "1        32321948      45130399          9898476                15115454   \n",
       "2         1406268       2131027          1298174                 1047429   \n",
       "3          422887        630202           598484                  558948   \n",
       "4        18036658      28485172          9783351                 8567583   \n",
       "\n",
       "   Plant Maintenance/Operation  Security & Monitoring  Data Processing  \\\n",
       "0                       773085                      0           173489   \n",
       "1                     58531070                7816390         10687937   \n",
       "2                      2670080                 219764           236002   \n",
       "3                      1248908                  13530           151120   \n",
       "4                     36029086                7063105          3407315   \n",
       "\n",
       "   Community Services  Regular Program  Gifted & Talented Program  \\\n",
       "0                   0          2778638                       3968   \n",
       "1             1448801        257772938                    7010472   \n",
       "2               29136         12845578                     166556   \n",
       "3                 500          5313722                         93   \n",
       "4             3523196        249219165                     927436   \n",
       "\n",
       "   Career & Technology Program  Students with Disabilities  \\\n",
       "0                       251350                     3005575   \n",
       "1                     21044878                    82627668   \n",
       "2                      1359357                     3786427   \n",
       "3                       852319                     1028587   \n",
       "4                     12721301                    57980032   \n",
       "\n",
       "   State Compensatory Education  Bilingual Program  High School Allotment  \\\n",
       "0                        273747               9599                  40285   \n",
       "1                      69915588           11437734                5319962   \n",
       "2                       2660496             228663                 581251   \n",
       "3                        799037                  0                 101243   \n",
       "4                      57183458           13027250                3233671   \n",
       "\n",
       "      Pre-K  Pre-K Bilingual  Pre-K Comp Ed  Pre-K Regular  \\\n",
       "0     32890                0              0              0   \n",
       "1  19592708           443275              0        5058965   \n",
       "2    304299                0          46039         165838   \n",
       "3         0                0              0              0   \n",
       "4   2451253                0          44308              0   \n",
       "\n",
       "   Pre-K Special Education  Athletics Program  Undistributed Program  \\\n",
       "0                        0             304174                1858660   \n",
       "1                  1925756            4102825              172616914   \n",
       "2                        0             968466                7935761   \n",
       "3                        0             339045                3262276   \n",
       "4                        0            3149577              106592326   \n",
       "\n",
       "   Other Uses  Efficient  \n",
       "0       48633          0  \n",
       "1      801985          0  \n",
       "2     1375788          0  \n",
       "3      102465          0  \n",
       "4           0          0  "
      ]
     },
     "execution_count": 12,
     "metadata": {},
     "output_type": "execute_result"
    }
   ],
   "source": [
    "df.head()"
   ]
  },
  {
   "cell_type": "markdown",
   "id": "bb8c5b45",
   "metadata": {},
   "source": [
    "## PREPARATION"
   ]
  },
  {
   "cell_type": "code",
   "execution_count": 13,
   "id": "f0618a7f",
   "metadata": {},
   "outputs": [],
   "source": [
    "X = df.drop(\"Efficient\", axis=1)\n",
    "y = df['Efficient']"
   ]
  },
  {
   "cell_type": "code",
   "execution_count": 14,
   "id": "5474e65b",
   "metadata": {},
   "outputs": [],
   "source": [
    "X_train, X_test, y_train, y_test = train_test_split(X, y, test_size=0.3, random_state=493, stratify=y)"
   ]
  },
  {
   "cell_type": "markdown",
   "id": "b3afc784",
   "metadata": {},
   "source": [
    "## MODELING"
   ]
  },
  {
   "cell_type": "code",
   "execution_count": 15,
   "id": "a31caa52",
   "metadata": {},
   "outputs": [
    {
     "data": {
      "text/html": [
       "<style>#sk-container-id-1 {color: black;background-color: white;}#sk-container-id-1 pre{padding: 0;}#sk-container-id-1 div.sk-toggleable {background-color: white;}#sk-container-id-1 label.sk-toggleable__label {cursor: pointer;display: block;width: 100%;margin-bottom: 0;padding: 0.3em;box-sizing: border-box;text-align: center;}#sk-container-id-1 label.sk-toggleable__label-arrow:before {content: \"▸\";float: left;margin-right: 0.25em;color: #696969;}#sk-container-id-1 label.sk-toggleable__label-arrow:hover:before {color: black;}#sk-container-id-1 div.sk-estimator:hover label.sk-toggleable__label-arrow:before {color: black;}#sk-container-id-1 div.sk-toggleable__content {max-height: 0;max-width: 0;overflow: hidden;text-align: left;background-color: #f0f8ff;}#sk-container-id-1 div.sk-toggleable__content pre {margin: 0.2em;color: black;border-radius: 0.25em;background-color: #f0f8ff;}#sk-container-id-1 input.sk-toggleable__control:checked~div.sk-toggleable__content {max-height: 200px;max-width: 100%;overflow: auto;}#sk-container-id-1 input.sk-toggleable__control:checked~label.sk-toggleable__label-arrow:before {content: \"▾\";}#sk-container-id-1 div.sk-estimator input.sk-toggleable__control:checked~label.sk-toggleable__label {background-color: #d4ebff;}#sk-container-id-1 div.sk-label input.sk-toggleable__control:checked~label.sk-toggleable__label {background-color: #d4ebff;}#sk-container-id-1 input.sk-hidden--visually {border: 0;clip: rect(1px 1px 1px 1px);clip: rect(1px, 1px, 1px, 1px);height: 1px;margin: -1px;overflow: hidden;padding: 0;position: absolute;width: 1px;}#sk-container-id-1 div.sk-estimator {font-family: monospace;background-color: #f0f8ff;border: 1px dotted black;border-radius: 0.25em;box-sizing: border-box;margin-bottom: 0.5em;}#sk-container-id-1 div.sk-estimator:hover {background-color: #d4ebff;}#sk-container-id-1 div.sk-parallel-item::after {content: \"\";width: 100%;border-bottom: 1px solid gray;flex-grow: 1;}#sk-container-id-1 div.sk-label:hover label.sk-toggleable__label {background-color: #d4ebff;}#sk-container-id-1 div.sk-serial::before {content: \"\";position: absolute;border-left: 1px solid gray;box-sizing: border-box;top: 0;bottom: 0;left: 50%;z-index: 0;}#sk-container-id-1 div.sk-serial {display: flex;flex-direction: column;align-items: center;background-color: white;padding-right: 0.2em;padding-left: 0.2em;position: relative;}#sk-container-id-1 div.sk-item {position: relative;z-index: 1;}#sk-container-id-1 div.sk-parallel {display: flex;align-items: stretch;justify-content: center;background-color: white;position: relative;}#sk-container-id-1 div.sk-item::before, #sk-container-id-1 div.sk-parallel-item::before {content: \"\";position: absolute;border-left: 1px solid gray;box-sizing: border-box;top: 0;bottom: 0;left: 50%;z-index: -1;}#sk-container-id-1 div.sk-parallel-item {display: flex;flex-direction: column;z-index: 1;position: relative;background-color: white;}#sk-container-id-1 div.sk-parallel-item:first-child::after {align-self: flex-end;width: 50%;}#sk-container-id-1 div.sk-parallel-item:last-child::after {align-self: flex-start;width: 50%;}#sk-container-id-1 div.sk-parallel-item:only-child::after {width: 0;}#sk-container-id-1 div.sk-dashed-wrapped {border: 1px dashed gray;margin: 0 0.4em 0.5em 0.4em;box-sizing: border-box;padding-bottom: 0.4em;background-color: white;}#sk-container-id-1 div.sk-label label {font-family: monospace;font-weight: bold;display: inline-block;line-height: 1.2em;}#sk-container-id-1 div.sk-label-container {text-align: center;}#sk-container-id-1 div.sk-container {/* jupyter's `normalize.less` sets `[hidden] { display: none; }` but bootstrap.min.css set `[hidden] { display: none !important; }` so we also need the `!important` here to be able to override the default hidden behavior on the sphinx rendered scikit-learn.org. See: https://github.com/scikit-learn/scikit-learn/issues/21755 */display: inline-block !important;position: relative;}#sk-container-id-1 div.sk-text-repr-fallback {display: none;}</style><div id=\"sk-container-id-1\" class=\"sk-top-container\"><div class=\"sk-text-repr-fallback\"><pre>XGBClassifier(base_score=0.5, booster=&#x27;gbtree&#x27;, callbacks=None,\n",
       "              colsample_bylevel=1, colsample_bynode=1, colsample_bytree=1,\n",
       "              early_stopping_rounds=None, enable_categorical=False,\n",
       "              eval_metric=None, gamma=0, gpu_id=-1, grow_policy=&#x27;depthwise&#x27;,\n",
       "              importance_type=None, interaction_constraints=&#x27;&#x27;,\n",
       "              learning_rate=0.300000012, max_bin=256, max_cat_to_onehot=4,\n",
       "              max_delta_step=0, max_depth=6, max_leaves=0, min_child_weight=1,\n",
       "              missing=nan, monotone_constraints=&#x27;()&#x27;, n_estimators=100,\n",
       "              n_jobs=0, num_parallel_tree=1, predictor=&#x27;auto&#x27;, random_state=493,\n",
       "              reg_alpha=0, reg_lambda=1, ...)</pre><b>In a Jupyter environment, please rerun this cell to show the HTML representation or trust the notebook. <br />On GitHub, the HTML representation is unable to render, please try loading this page with nbviewer.org.</b></div><div class=\"sk-container\" hidden><div class=\"sk-item\"><div class=\"sk-estimator sk-toggleable\"><input class=\"sk-toggleable__control sk-hidden--visually\" id=\"sk-estimator-id-1\" type=\"checkbox\" checked><label for=\"sk-estimator-id-1\" class=\"sk-toggleable__label sk-toggleable__label-arrow\">XGBClassifier</label><div class=\"sk-toggleable__content\"><pre>XGBClassifier(base_score=0.5, booster=&#x27;gbtree&#x27;, callbacks=None,\n",
       "              colsample_bylevel=1, colsample_bynode=1, colsample_bytree=1,\n",
       "              early_stopping_rounds=None, enable_categorical=False,\n",
       "              eval_metric=None, gamma=0, gpu_id=-1, grow_policy=&#x27;depthwise&#x27;,\n",
       "              importance_type=None, interaction_constraints=&#x27;&#x27;,\n",
       "              learning_rate=0.300000012, max_bin=256, max_cat_to_onehot=4,\n",
       "              max_delta_step=0, max_depth=6, max_leaves=0, min_child_weight=1,\n",
       "              missing=nan, monotone_constraints=&#x27;()&#x27;, n_estimators=100,\n",
       "              n_jobs=0, num_parallel_tree=1, predictor=&#x27;auto&#x27;, random_state=493,\n",
       "              reg_alpha=0, reg_lambda=1, ...)</pre></div></div></div></div></div>"
      ],
      "text/plain": [
       "XGBClassifier(base_score=0.5, booster='gbtree', callbacks=None,\n",
       "              colsample_bylevel=1, colsample_bynode=1, colsample_bytree=1,\n",
       "              early_stopping_rounds=None, enable_categorical=False,\n",
       "              eval_metric=None, gamma=0, gpu_id=-1, grow_policy='depthwise',\n",
       "              importance_type=None, interaction_constraints='',\n",
       "              learning_rate=0.300000012, max_bin=256, max_cat_to_onehot=4,\n",
       "              max_delta_step=0, max_depth=6, max_leaves=0, min_child_weight=1,\n",
       "              missing=nan, monotone_constraints='()', n_estimators=100,\n",
       "              n_jobs=0, num_parallel_tree=1, predictor='auto', random_state=493,\n",
       "              reg_alpha=0, reg_lambda=1, ...)"
      ]
     },
     "execution_count": 15,
     "metadata": {},
     "output_type": "execute_result"
    },
    {
     "data": {
      "text/plain": [
       "0.78125"
      ]
     },
     "execution_count": 15,
     "metadata": {},
     "output_type": "execute_result"
    }
   ],
   "source": [
    "# Init classifier\n",
    "xgb_cl = xgb.XGBClassifier(random_state=493)\n",
    "\n",
    "# Fit\n",
    "xgb_cl.fit(X_train, y_train)\n",
    "\n",
    "# Predict\n",
    "preds = xgb_cl.predict(X_test)\n",
    "\n",
    "# Score\n",
    "accuracy_score(y_test, preds)"
   ]
  },
  {
   "cell_type": "code",
   "execution_count": 16,
   "id": "f8d10528",
   "metadata": {},
   "outputs": [],
   "source": [
    "# make predictions for test data\n",
    "y_pred = xgb_cl.predict(X_test)\n",
    "predictions = [round(value) for value in y_pred]"
   ]
  },
  {
   "cell_type": "code",
   "execution_count": 17,
   "id": "157c8c6f",
   "metadata": {},
   "outputs": [
    {
     "name": "stdout",
     "output_type": "stream",
     "text": [
      "Accuracy: 78.12%\n"
     ]
    }
   ],
   "source": [
    "# evaluate predictions\n",
    "accuracy = accuracy_score(y_test, predictions)\n",
    "print(\"Accuracy: %.2f%%\" % (accuracy * 100.0))"
   ]
  },
  {
   "cell_type": "code",
   "execution_count": 18,
   "id": "0cd4e00d",
   "metadata": {},
   "outputs": [
    {
     "data": {
      "text/plain": [
       "<AxesSubplot:title={'center':'Feature importance'}, xlabel='F score', ylabel='Features'>"
      ]
     },
     "execution_count": 18,
     "metadata": {},
     "output_type": "execute_result"
    },
    {
     "data": {
      "image/png": "[encoded data removed]",
      "text/plain": [
       "<Figure size 864x1440 with 1 Axes>"
      ]
     },
     "metadata": {
      "needs_background": "light"
     },
     "output_type": "display_data"
    }
   ],
   "source": [
    "my_plot_importance(xgb_cl, (12, 20))"
   ]
  },
  {
   "cell_type": "markdown",
   "id": "4a4686b1",
   "metadata": {},
   "source": [
    "### Selection"
   ]
  },
  {
   "cell_type": "code",
   "execution_count": 19,
   "id": "2af0a7ef",
   "metadata": {},
   "outputs": [
    {
     "data": {
      "text/plain": [
       "Index(['Payroll', 'Professional & Contracted', 'Supplies & Materials',\n",
       "       'Other Operating', 'Instruction & Transfer',\n",
       "       'Instructional Resource Media', 'Curriculum/Staff Development',\n",
       "       'Instructional Leadership', 'Campus Administration',\n",
       "       'Guidance & Counseling', 'Social Work', 'Health Services',\n",
       "       'Transportation', 'Food Service', 'Extracurricular',\n",
       "       'General Administration', 'Plant Maintenance/Operation',\n",
       "       'Security & Monitoring', 'Data Processing', 'Community Services',\n",
       "       'Regular Program', 'Gifted & Talented Program',\n",
       "       'Career & Technology Program', 'Students with Disabilities',\n",
       "       'State Compensatory Education', 'Bilingual Program',\n",
       "       'High School Allotment', 'Pre-K', 'Pre-K Bilingual', 'Pre-K Comp Ed',\n",
       "       'Pre-K Regular', 'Pre-K Special Education', 'Athletics Program',\n",
       "       'Undistributed Program', 'Other Uses', 'Efficient'],\n",
       "      dtype='object')"
      ]
     },
     "execution_count": 19,
     "metadata": {},
     "output_type": "execute_result"
    }
   ],
   "source": [
    "df.columns"
   ]
  },
  {
   "cell_type": "code",
   "execution_count": 21,
   "id": "23d7594c",
   "metadata": {},
   "outputs": [],
   "source": [
    "dfx = df[['State Compensatory Education',\n",
    "          'Instructional Resource Media',\n",
    "          'Transportation',\n",
    "          'Curriculum/Staff Development',\n",
    "          'Extracurricular',\n",
    "          'Other Operating',\n",
    "          'Bilingual Program',\n",
    "          'Security & Monitoring',\n",
    "          'Other Uses',\n",
    "          'Pre-K',\n",
    "          'High School Allotment',\n",
    "          'Guidance & Counseling',\n",
    "          'General Administration',\n",
    "          'Food Service',\n",
    "          'Health Services',\n",
    "          'Professional & Contracted',\n",
    "          'Efficient'\n",
    "         ]]"
   ]
  },
  {
   "cell_type": "code",
   "execution_count": null,
   "id": "523eb269",
   "metadata": {},
   "outputs": [],
   "source": []
  },
  {
   "cell_type": "code",
   "execution_count": null,
   "id": "2ffa5350",
   "metadata": {},
   "outputs": [],
   "source": []
  },
  {
   "cell_type": "code",
   "execution_count": null,
   "id": "34e170c3",
   "metadata": {},
   "outputs": [],
   "source": []
  },
  {
   "cell_type": "code",
   "execution_count": null,
   "id": "eb2b22d6",
   "metadata": {},
   "outputs": [],
   "source": []
  },
  {
   "cell_type": "code",
   "execution_count": null,
   "id": "5335b65c",
   "metadata": {},
   "outputs": [],
   "source": []
  },
  {
   "cell_type": "code",
   "execution_count": 22,
   "id": "1ba5901d",
   "metadata": {},
   "outputs": [],
   "source": [
    "dfx.to_csv('../data/inter/clean_2019.csv', index=False)"
   ]
  },
  {
   "cell_type": "code",
   "execution_count": null,
   "id": "e2851e39",
   "metadata": {},
   "outputs": [],
   "source": []
  }
 ],
 "metadata": {
  "kernelspec": {
   "display_name": "Python 3 (ipykernel)",
   "language": "python",
   "name": "python3"
  },
  "language_info": {
   "codemirror_mode": {
    "name": "ipython",
    "version": 3
   },
   "file_extension": ".py",
   "mimetype": "text/x-python",
   "name": "python",
   "nbconvert_exporter": "python",
   "pygments_lexer": "ipython3",
   "version": "3.9.9"
  }
 },
 "nbformat": 4,
 "nbformat_minor": 5
}
