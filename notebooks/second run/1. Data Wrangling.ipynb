{
 "cells": [
  {
   "cell_type": "markdown",
   "id": "ab66dc01",
   "metadata": {},
   "source": [
    "# Executive Summary\n",
    "\n",
    "This notebook will attempt to answer the following research question:\n",
    "\n",
    "    What's money got to do with it?"
   ]
  },
  {
   "cell_type": "markdown",
   "id": "e592e0d9",
   "metadata": {},
   "source": [
    "## PLANNING\n",
    "\n",
    "- [X] Planning\n",
    "    - [X] import libraries/packages\n",
    "    - [X] configure notebook environment\n",
    "    - [X] define helper functions\n",
    "- [X] Acquire data\n",
    "    - [X] get PEIMS financial data\n",
    "    - [X] get STAAR performance data\n",
    "- [X] Prepare the data\n",
    "    - [X] prepare PEIMS data\n",
    "        - [X] get rid of unwanted columns\n",
    "        - [x] get rid of NaNs\n",
    "    - [X] prepare STAAR data\n",
    "        - [X] get rid of duplicates\n",
    "        - [X] get rid of unwanted columns\n",
    "        - [X] get rid of NaNs\n",
    "        - [X] create new columns\n",
    "        - [X] merge two datasets together\n",
    "- [ ] Explore the data\n",
    "    - [ ] examine for multicollinearity and determine truly independent variables\n",
    "    - [ ] get to know the master dataset\n",
    "    - [ ] feature engineering\n",
    "- [ ] Modeling\n",
    "    - [ ] create, fit, use XGBoost\n",
    "    - [ ] gridsearch\n",
    "    - [ ] retrain model using best hyperparameters\n",
    "    - [ ] extract feature importances"
   ]
  },
  {
   "cell_type": "code",
   "execution_count": 1,
   "id": "c6b0a068",
   "metadata": {},
   "outputs": [],
   "source": [
    "# for manipulating dataframes\n",
    "import pandas as pd\n",
    "\n",
    "# to print out all the outputs\n",
    "from IPython.core.interactiveshell import InteractiveShell\n",
    "InteractiveShell.ast_node_interactivity = \"all\"\n",
    "\n",
    "# set display options\n",
    "pd.set_option('display.max_columns', None)\n",
    "pd.set_option('display.max_rows', None)\n",
    "pd.set_option('display.max_colwidth', None)"
   ]
  },
  {
   "cell_type": "markdown",
   "id": "60977796",
   "metadata": {},
   "source": [
    "## ACQUIRE DATA"
   ]
  },
  {
   "cell_type": "code",
   "execution_count": 2,
   "id": "96956fcb",
   "metadata": {},
   "outputs": [
    {
     "name": "stderr",
     "output_type": "stream",
     "text": [
      "C:\\Users\\Dd\\AppData\\Local\\Temp\\ipykernel_25176\\2859202939.py:3: DtypeWarning: Columns (6) have mixed types. Specify dtype option on import or set low_memory=False.\n",
      "  staar_df1 = pd.read_csv('../data/in/tidy_campstaar1_2012to2019.csv')\n"
     ]
    }
   ],
   "source": [
    "# Get the PEIMS and STAAR datasets\n",
    "peims_df = pd.read_csv('../data/in/2007-2021-summaried-peims-financial-data.csv')\n",
    "staar_df1 = pd.read_csv('../data/in/tidy_campstaar1_2012to2019.csv')\n",
    "staar_df2 = pd.read_csv('../data/in/tidy_campstaar2_2013to2019.csv')"
   ]
  },
  {
   "cell_type": "markdown",
   "id": "172d9dc4",
   "metadata": {},
   "source": [
    "## PREPARATION\n",
    "\n",
    "### STAAR Dataset"
   ]
  },
  {
   "cell_type": "code",
   "execution_count": 3,
   "id": "583177aa",
   "metadata": {},
   "outputs": [],
   "source": [
    "# Consolidate the two files into one dataframe\n",
    "staar_df = pd.concat([staar_df1, staar_df2])"
   ]
  },
  {
   "cell_type": "code",
   "execution_count": 4,
   "id": "e7a4462e",
   "metadata": {},
   "outputs": [],
   "source": [
    "# Get rid of duplciates\n",
    "staar_df = staar_df.drop_duplicates(keep='first')"
   ]
  },
  {
   "cell_type": "code",
   "execution_count": 5,
   "id": "4f21d0d3",
   "metadata": {},
   "outputs": [],
   "source": [
    "columns_to_drop = ['data_release',\n",
    "                   'data_category',\n",
    "                   'data_level',\n",
    "                   'release_year'\n",
    "                  ]"
   ]
  },
  {
   "cell_type": "code",
   "execution_count": 6,
   "id": "7fcdcc56",
   "metadata": {},
   "outputs": [],
   "source": [
    "# Get rid of unnecessary columns\n",
    "staar_df.drop(columns=columns_to_drop, inplace=True)"
   ]
  },
  {
   "cell_type": "code",
   "execution_count": 7,
   "id": "2a7e4c38",
   "metadata": {},
   "outputs": [],
   "source": [
    "# Prepend with 0's\n",
    "staar_df['campus_number'] = staar_df['campus_number'].apply(lambda x: '{0:0>9}'.format(x))"
   ]
  },
  {
   "cell_type": "code",
   "execution_count": 8,
   "id": "0fe1eead",
   "metadata": {},
   "outputs": [],
   "source": [
    "# Drop 'new_rate'\n",
    "staar_df.drop(columns=['new_rate'], inplace=True)"
   ]
  },
  {
   "cell_type": "code",
   "execution_count": 9,
   "id": "66322978",
   "metadata": {},
   "outputs": [],
   "source": [
    "# Get the district number\n",
    "staar_df['district'] = staar_df['campus_number'].str[:6]"
   ]
  },
  {
   "cell_type": "code",
   "execution_count": 10,
   "id": "e724d4ba",
   "metadata": {},
   "outputs": [],
   "source": [
    "# Turn dataset into district-level data\n",
    "staar = staar_df.groupby(['test_year',\n",
    "                          'district',\n",
    "                          'grade_level',\n",
    "                          'subject',\n",
    "                          'proficiency',\n",
    "                          'demog'\n",
    "                         ])[[\"numerator\", \"denominator\"]].sum().reset_index()"
   ]
  },
  {
   "cell_type": "code",
   "execution_count": 11,
   "id": "44fe0a9e",
   "metadata": {},
   "outputs": [],
   "source": [
    "# Remove subsets\n",
    "staar = staar[staar['grade_level'] == 'all']\n",
    "staar = staar[staar['subject'] == 'all_subjects']\n",
    "staar = staar[staar['demog'] == 'all_students']\n",
    "staar = staar.drop(columns=['grade_level',\n",
    "                            'subject',\n",
    "                            'demog'\n",
    "                           ])"
   ]
  },
  {
   "cell_type": "code",
   "execution_count": 12,
   "id": "d4636fff",
   "metadata": {},
   "outputs": [],
   "source": [
    "# Create rate column\n",
    "staar['rate'] = round(staar['numerator'] / staar['denominator'] * 100, 2)\n",
    "\n",
    "# Remove raw columns\n",
    "staar = staar.drop(columns=['numerator',\n",
    "                            'denominator'\n",
    "                           ])"
   ]
  },
  {
   "cell_type": "code",
   "execution_count": 13,
   "id": "7a2406bc",
   "metadata": {},
   "outputs": [],
   "source": [
    "# Isolate 2019 test year\n",
    "staar = staar[staar['test_year'] == 2019]\n",
    "staar = staar.drop(columns=['test_year'])"
   ]
  },
  {
   "cell_type": "code",
   "execution_count": 14,
   "id": "a2e912d9",
   "metadata": {},
   "outputs": [],
   "source": [
    "staar = staar.rename(columns={'district':'District',\n",
    "                        'proficiency':'Proficiency',\n",
    "                        'rate':'Rate'\n",
    "                        })"
   ]
  },
  {
   "cell_type": "code",
   "execution_count": 15,
   "id": "6bdd6326",
   "metadata": {},
   "outputs": [
    {
     "data": {
      "text/html": [
       "<div>\n",
       "<style scoped>\n",
       "    .dataframe tbody tr th:only-of-type {\n",
       "        vertical-align: middle;\n",
       "    }\n",
       "\n",
       "    .dataframe tbody tr th {\n",
       "        vertical-align: top;\n",
       "    }\n",
       "\n",
       "    .dataframe thead th {\n",
       "        text-align: right;\n",
       "    }\n",
       "</style>\n",
       "<table border=\"1\" class=\"dataframe\">\n",
       "  <thead>\n",
       "    <tr style=\"text-align: right;\">\n",
       "      <th></th>\n",
       "      <th>District</th>\n",
       "      <th>Proficiency</th>\n",
       "      <th>Rate</th>\n",
       "    </tr>\n",
       "  </thead>\n",
       "  <tbody>\n",
       "    <tr>\n",
       "      <th>2682938</th>\n",
       "      <td>001902</td>\n",
       "      <td>approaches</td>\n",
       "      <td>84.55</td>\n",
       "    </tr>\n",
       "    <tr>\n",
       "      <th>2682951</th>\n",
       "      <td>001902</td>\n",
       "      <td>masters</td>\n",
       "      <td>28.86</td>\n",
       "    </tr>\n",
       "    <tr>\n",
       "      <th>2682964</th>\n",
       "      <td>001902</td>\n",
       "      <td>meets</td>\n",
       "      <td>61.48</td>\n",
       "    </tr>\n",
       "    <tr>\n",
       "      <th>2683797</th>\n",
       "      <td>001903</td>\n",
       "      <td>approaches</td>\n",
       "      <td>83.93</td>\n",
       "    </tr>\n",
       "    <tr>\n",
       "      <th>2683811</th>\n",
       "      <td>001903</td>\n",
       "      <td>masters</td>\n",
       "      <td>26.52</td>\n",
       "    </tr>\n",
       "  </tbody>\n",
       "</table>\n",
       "</div>"
      ],
      "text/plain": [
       "        District Proficiency   Rate\n",
       "2682938   001902  approaches  84.55\n",
       "2682951   001902     masters  28.86\n",
       "2682964   001902       meets  61.48\n",
       "2683797   001903  approaches  83.93\n",
       "2683811   001903     masters  26.52"
      ]
     },
     "execution_count": 15,
     "metadata": {},
     "output_type": "execute_result"
    }
   ],
   "source": [
    "staar.head()"
   ]
  },
  {
   "cell_type": "markdown",
   "id": "285f6a40",
   "metadata": {},
   "source": [
    "### PEIMS Dataset"
   ]
  },
  {
   "cell_type": "code",
   "execution_count": 16,
   "id": "b7bc5f9f",
   "metadata": {},
   "outputs": [],
   "source": [
    "peims_df['DISTRICT NUMBER'] = peims_df['DISTRICT NUMBER'].str[1:]"
   ]
  },
  {
   "cell_type": "code",
   "execution_count": 17,
   "id": "0db6b6e9",
   "metadata": {},
   "outputs": [],
   "source": [
    "peims = peims_df.drop(columns=['DISTRICT NAME'])"
   ]
  },
  {
   "cell_type": "code",
   "execution_count": 18,
   "id": "8f7c1742",
   "metadata": {},
   "outputs": [],
   "source": [
    "# Remove all columns between column name 'B' to 'D'\n",
    "peims = peims.drop(peims.loc[:, 'GEN FUNDS-LOCAL TAX REVENUE FROM M&O':'ALL FUNDS-TOTAL OPERATING, OTR, DEBT SERV FIN, AND TRS EST REVEN'].columns, axis=1)"
   ]
  },
  {
   "cell_type": "code",
   "execution_count": 19,
   "id": "5b23531a",
   "metadata": {},
   "outputs": [],
   "source": [
    "# Isolate 2019 test year\n",
    "peims = peims[peims['YEAR'] == 2019]\n",
    "peims = peims.drop(columns=['YEAR'])"
   ]
  },
  {
   "cell_type": "code",
   "execution_count": 20,
   "id": "2cb0b3ec",
   "metadata": {},
   "outputs": [],
   "source": [
    "# Remove columns that starts with 'GEN'\n",
    "columns_to_keep = [c for c in peims.columns if c.lower()[:3] != 'gen']\n",
    "peims = peims[columns_to_keep]"
   ]
  },
  {
   "cell_type": "code",
   "execution_count": 21,
   "id": "ce657327",
   "metadata": {
    "scrolled": true
   },
   "outputs": [],
   "source": [
    "# Remove Prefix 'all funds'\n",
    "peims.columns = peims.columns.str.replace(\"ALL FUNDS-\", \"\")"
   ]
  },
  {
   "cell_type": "code",
   "execution_count": 22,
   "id": "ffb8ece7",
   "metadata": {
    "scrolled": true
   },
   "outputs": [],
   "source": [
    "# Padd District numbers with 0's\n",
    "peims['DISTRICT NUMBER'] = peims['DISTRICT NUMBER'].str.zfill(6)"
   ]
  },
  {
   "cell_type": "code",
   "execution_count": 23,
   "id": "2775c884",
   "metadata": {},
   "outputs": [],
   "source": [
    "peims = peims.drop(peims.loc[:, 'TOTAL OPERATING EXPENDITURES BY OBJ':'TOTAL NON-OPER AND OPER OEXPENDITURES BY OBJ'].columns, axis=1)"
   ]
  },
  {
   "cell_type": "code",
   "execution_count": 24,
   "id": "fb75cf64",
   "metadata": {},
   "outputs": [],
   "source": [
    "peims = peims.drop(peims.loc[:, 'TOTAL OPERATE EXPEND BY FUNCTION':'TOT OPER AND NON-OPER EXP BY FUNCTION'].columns, axis=1)"
   ]
  },
  {
   "cell_type": "code",
   "execution_count": 25,
   "id": "3ee8d9ee",
   "metadata": {},
   "outputs": [],
   "source": [
    "peims = peims.drop(peims.loc[:, 'TOTAL PROGRAM OPERATING EXPENDITURES':'EINTRAN4'].columns, axis=1)"
   ]
  },
  {
   "cell_type": "code",
   "execution_count": 26,
   "id": "a2b70c77",
   "metadata": {},
   "outputs": [],
   "source": [
    "peims = peims.drop(peims.loc[:, 'INTERGOVERN CHARGES EXPEND':'FALL SURVEY ENROLLMENT'].columns, axis=1)"
   ]
  },
  {
   "cell_type": "code",
   "execution_count": 27,
   "id": "70727a47",
   "metadata": {},
   "outputs": [],
   "source": [
    "peims = peims.rename(columns={'DISTRICT NUMBER':'DISTRICT'})"
   ]
  },
  {
   "cell_type": "code",
   "execution_count": 28,
   "id": "3a80e19f",
   "metadata": {},
   "outputs": [],
   "source": [
    "# Remove word 'EXPENDITURES'\n",
    "peims.columns = peims.columns.str.replace(\"EXPENDITURES\", \"\")"
   ]
  },
  {
   "cell_type": "code",
   "execution_count": 29,
   "id": "bf87a8dc",
   "metadata": {},
   "outputs": [],
   "source": [
    "# Remove word 'EXPEND'\n",
    "peims.columns = peims.columns.str.replace(\"EXPEND\", \"\")"
   ]
  },
  {
   "cell_type": "code",
   "execution_count": 30,
   "id": "31527357",
   "metadata": {},
   "outputs": [],
   "source": [
    "# Remove word 'EXP'\n",
    "peims.columns = peims.columns.str.replace(\"EXP\", \"\")"
   ]
  },
  {
   "cell_type": "code",
   "execution_count": 31,
   "id": "1e78f38c",
   "metadata": {},
   "outputs": [],
   "source": [
    "# Remove word 'TOTAL'\n",
    "peims.columns = peims.columns.str.replace(\"TOTAL\", \"\")"
   ]
  },
  {
   "cell_type": "code",
   "execution_count": 32,
   "id": "9d23c4df",
   "metadata": {},
   "outputs": [],
   "source": [
    "# Remove word 'FCT'\n",
    "peims.columns = peims.columns.str.replace(\"FCT\", \"\")"
   ]
  },
  {
   "cell_type": "code",
   "execution_count": 33,
   "id": "3c7bb78f",
   "metadata": {},
   "outputs": [],
   "source": [
    "# Remove dougble dashes\n",
    "peims.columns = peims.columns.str.replace(\"--\", \"-\")"
   ]
  },
  {
   "cell_type": "code",
   "execution_count": 34,
   "id": "11637986",
   "metadata": {},
   "outputs": [],
   "source": [
    "# Remove double space opposite comma\n",
    "peims.columns = peims.columns.str.replace(\" , \", \",\")"
   ]
  },
  {
   "cell_type": "code",
   "execution_count": 35,
   "id": "2735ea14",
   "metadata": {},
   "outputs": [],
   "source": [
    "# Remove leading and treiling spaces\n",
    "peims.columns = peims.columns.str.strip()"
   ]
  },
  {
   "cell_type": "code",
   "execution_count": 36,
   "id": "52bb621e",
   "metadata": {},
   "outputs": [],
   "source": [
    "peims = peims.rename(columns={'DISTRICT':'District',\n",
    "                              'PAYROLL':'Payroll',\n",
    "                              'PROFESSIONAL & CONTRACTED SERVICES':'Professional & Contracted',\n",
    "                              'SUPPLIES & MATERIALS':'Supplies & Materials',\n",
    "                              'OTHER OPERATING':'Other Operating',\n",
    "                              'INSTRUCTION + TRANSFER -11,95':'Instruction & Transfer',\n",
    "                              'INSTRUC RESOURCE MEDIA SERVICE, 12':'Instructional Resource Media',\n",
    "                              'CURRICULUM/STAFF DEVELOPMENT,13':'Curriculum/Staff Development',\n",
    "                              'INSTRUC LEADERSHIP,21':'Instructional Leadership',\n",
    "                              'CAMPUS ADMINISTRATION,23':'Campus Administration',\n",
    "                              'GUIDANCE 7 COUNSELING SERVICES,31':'Guidance & Counseling',\n",
    "                              'SOCIAL WORK SERVICES,32':'Social Work',\n",
    "                              'HEALTH SERVICES,33':'Health Services',\n",
    "                              'TRANSPORTATION,34':'Transportation',\n",
    "                              'FOOD SERVICE,35':'Food Service',\n",
    "                              'EXTRACURRICULAR ,36':'Extracurricular',\n",
    "                              'GENERAL ADMINISTRAT -41,80,92':'General Administration',\n",
    "                              'PLANT MAINTENANCE/OPERA,51':'Plant Maintenance/Operation',\n",
    "                              'SECURITY/MONITORING SERVICE,5':'Security & Monitoring',\n",
    "                              'DATA PROCESSING SERVICES, 53':'Data Processing',\n",
    "                              'COMMUNITY SERVICES, 61':'Community Services',\n",
    "                              'REGULAR PROGRAM -11':'Regular Program',\n",
    "                              'GIFTED/TALENTED PROGRAM -21':'Gifted & Talented Program',\n",
    "                              'CAREER & TECHNOLOGY PGM -22':'Career & Technology Program',\n",
    "                              'STUDENTS WITH DISABILITIES PGM -23':'Students with Disabilities',\n",
    "                              'STATE COMPENSATORY ED -24, 29, 30, 34':'State Compensatory Education',\n",
    "                              'BILINGUAL PROGRAM -25':'Bilingual Program',\n",
    "                              'HIGH SCHOOL ALLOTMENT PROGRAM-91':'High School Allotment',\n",
    "                              'PREKINDERGARTEN-32,35':'Pre-K',\n",
    "                              'PREKINDERGARTEN  BILINGUAL-32':'Pre-K Bilingual',\n",
    "                              'PREKINDERGARTEN  COMP ED-32':'Pre-K Comp Ed',\n",
    "                              'PREKINDERGARTEN  REGULAR-32':'Pre-K Regular',\n",
    "                              'PREKINDERGARTEN  SPECIAL ED-32':'Pre-K Special Education',\n",
    "                              'ATHLETICS PROGRAM-91':'Athletics Program',\n",
    "                              'UNDISTRIBUTED PROGRAM -99':'Undistributed Program',\n",
    "                              'OTHER USES':'Other Uses'\n",
    "                             })"
   ]
  },
  {
   "cell_type": "code",
   "execution_count": 37,
   "id": "6b4b6b59",
   "metadata": {},
   "outputs": [],
   "source": [
    "peims['District'] = peims['District'].str[1:]"
   ]
  },
  {
   "cell_type": "code",
   "execution_count": 38,
   "id": "b74559e8",
   "metadata": {},
   "outputs": [
    {
     "data": {
      "text/html": [
       "<div>\n",
       "<style scoped>\n",
       "    .dataframe tbody tr th:only-of-type {\n",
       "        vertical-align: middle;\n",
       "    }\n",
       "\n",
       "    .dataframe tbody tr th {\n",
       "        vertical-align: top;\n",
       "    }\n",
       "\n",
       "    .dataframe thead th {\n",
       "        text-align: right;\n",
       "    }\n",
       "</style>\n",
       "<table border=\"1\" class=\"dataframe\">\n",
       "  <thead>\n",
       "    <tr style=\"text-align: right;\">\n",
       "      <th></th>\n",
       "      <th>12</th>\n",
       "      <th>27</th>\n",
       "      <th>42</th>\n",
       "      <th>57</th>\n",
       "      <th>72</th>\n",
       "    </tr>\n",
       "  </thead>\n",
       "  <tbody>\n",
       "    <tr>\n",
       "      <th>District</th>\n",
       "      <td>01902</td>\n",
       "      <td>01903</td>\n",
       "      <td>01904</td>\n",
       "      <td>01906</td>\n",
       "      <td>01907</td>\n",
       "    </tr>\n",
       "    <tr>\n",
       "      <th>Payroll</th>\n",
       "      <td>6025217</td>\n",
       "      <td>9093950</td>\n",
       "      <td>6659596</td>\n",
       "      <td>3134475</td>\n",
       "      <td>25587063</td>\n",
       "    </tr>\n",
       "    <tr>\n",
       "      <th>Professional &amp; Contracted</th>\n",
       "      <td>1075904</td>\n",
       "      <td>1514689</td>\n",
       "      <td>927209</td>\n",
       "      <td>373513</td>\n",
       "      <td>5603896</td>\n",
       "    </tr>\n",
       "    <tr>\n",
       "      <th>Supplies &amp; Materials</th>\n",
       "      <td>648206</td>\n",
       "      <td>784631</td>\n",
       "      <td>937810</td>\n",
       "      <td>408024</td>\n",
       "      <td>4134969</td>\n",
       "    </tr>\n",
       "    <tr>\n",
       "      <th>Other Operating</th>\n",
       "      <td>809559</td>\n",
       "      <td>303052</td>\n",
       "      <td>278109</td>\n",
       "      <td>105878</td>\n",
       "      <td>1048416</td>\n",
       "    </tr>\n",
       "    <tr>\n",
       "      <th>Instruction &amp; Transfer</th>\n",
       "      <td>4649118</td>\n",
       "      <td>7043892</td>\n",
       "      <td>4611747</td>\n",
       "      <td>2087166</td>\n",
       "      <td>18807861</td>\n",
       "    </tr>\n",
       "    <tr>\n",
       "      <th>Instructional Resource Media</th>\n",
       "      <td>66490</td>\n",
       "      <td>117860</td>\n",
       "      <td>51126</td>\n",
       "      <td>19990</td>\n",
       "      <td>167823</td>\n",
       "    </tr>\n",
       "    <tr>\n",
       "      <th>Curriculum/Staff Development</th>\n",
       "      <td>4986</td>\n",
       "      <td>33175</td>\n",
       "      <td>157830</td>\n",
       "      <td>0</td>\n",
       "      <td>535649</td>\n",
       "    </tr>\n",
       "    <tr>\n",
       "      <th>Instructional Leadership</th>\n",
       "      <td>270353</td>\n",
       "      <td>66374</td>\n",
       "      <td>0</td>\n",
       "      <td>7905</td>\n",
       "      <td>1033275</td>\n",
       "    </tr>\n",
       "    <tr>\n",
       "      <th>Campus Administration</th>\n",
       "      <td>306385</td>\n",
       "      <td>574699</td>\n",
       "      <td>466345</td>\n",
       "      <td>379101</td>\n",
       "      <td>2201907</td>\n",
       "    </tr>\n",
       "    <tr>\n",
       "      <th>Guidance &amp; Counseling</th>\n",
       "      <td>998314</td>\n",
       "      <td>202086</td>\n",
       "      <td>199338</td>\n",
       "      <td>75235</td>\n",
       "      <td>1443630</td>\n",
       "    </tr>\n",
       "    <tr>\n",
       "      <th>Social Work</th>\n",
       "      <td>0</td>\n",
       "      <td>0</td>\n",
       "      <td>0</td>\n",
       "      <td>0</td>\n",
       "      <td>170074</td>\n",
       "    </tr>\n",
       "    <tr>\n",
       "      <th>Health Services</th>\n",
       "      <td>37882</td>\n",
       "      <td>33657</td>\n",
       "      <td>102385</td>\n",
       "      <td>40628</td>\n",
       "      <td>208736</td>\n",
       "    </tr>\n",
       "    <tr>\n",
       "      <th>Transportation</th>\n",
       "      <td>293070</td>\n",
       "      <td>422887</td>\n",
       "      <td>38800</td>\n",
       "      <td>148301</td>\n",
       "      <td>1442619</td>\n",
       "    </tr>\n",
       "    <tr>\n",
       "      <th>Food Service</th>\n",
       "      <td>287406</td>\n",
       "      <td>630202</td>\n",
       "      <td>411195</td>\n",
       "      <td>257465</td>\n",
       "      <td>2071781</td>\n",
       "    </tr>\n",
       "    <tr>\n",
       "      <th>Extracurricular</th>\n",
       "      <td>413755</td>\n",
       "      <td>598484</td>\n",
       "      <td>754465</td>\n",
       "      <td>210240</td>\n",
       "      <td>1422648</td>\n",
       "    </tr>\n",
       "    <tr>\n",
       "      <th>General Administration</th>\n",
       "      <td>284553</td>\n",
       "      <td>558948</td>\n",
       "      <td>539512</td>\n",
       "      <td>201520</td>\n",
       "      <td>1287489</td>\n",
       "    </tr>\n",
       "    <tr>\n",
       "      <th>Plant Maintenance/Operation</th>\n",
       "      <td>773085</td>\n",
       "      <td>1248908</td>\n",
       "      <td>1014501</td>\n",
       "      <td>465549</td>\n",
       "      <td>3937087</td>\n",
       "    </tr>\n",
       "    <tr>\n",
       "      <th>Security &amp; Monitoring</th>\n",
       "      <td>0</td>\n",
       "      <td>13530</td>\n",
       "      <td>45482</td>\n",
       "      <td>10415</td>\n",
       "      <td>242658</td>\n",
       "    </tr>\n",
       "    <tr>\n",
       "      <th>Data Processing</th>\n",
       "      <td>173489</td>\n",
       "      <td>151120</td>\n",
       "      <td>409998</td>\n",
       "      <td>118375</td>\n",
       "      <td>1006175</td>\n",
       "    </tr>\n",
       "    <tr>\n",
       "      <th>Community Services</th>\n",
       "      <td>0</td>\n",
       "      <td>500</td>\n",
       "      <td>0</td>\n",
       "      <td>0</td>\n",
       "      <td>394932</td>\n",
       "    </tr>\n",
       "    <tr>\n",
       "      <th>Regular Program</th>\n",
       "      <td>2778638</td>\n",
       "      <td>5313722</td>\n",
       "      <td>3945494</td>\n",
       "      <td>1499301</td>\n",
       "      <td>15527277</td>\n",
       "    </tr>\n",
       "    <tr>\n",
       "      <th>Gifted &amp; Talented Program</th>\n",
       "      <td>3968</td>\n",
       "      <td>93</td>\n",
       "      <td>10154</td>\n",
       "      <td>14498</td>\n",
       "      <td>39671</td>\n",
       "    </tr>\n",
       "    <tr>\n",
       "      <th>Career &amp; Technology Program</th>\n",
       "      <td>251350</td>\n",
       "      <td>852319</td>\n",
       "      <td>552217</td>\n",
       "      <td>164641</td>\n",
       "      <td>1625090</td>\n",
       "    </tr>\n",
       "    <tr>\n",
       "      <th>Students with Disabilities</th>\n",
       "      <td>3005575</td>\n",
       "      <td>1028587</td>\n",
       "      <td>726827</td>\n",
       "      <td>447072</td>\n",
       "      <td>2422707</td>\n",
       "    </tr>\n",
       "    <tr>\n",
       "      <th>State Compensatory Education</th>\n",
       "      <td>273747</td>\n",
       "      <td>799037</td>\n",
       "      <td>377013</td>\n",
       "      <td>402415</td>\n",
       "      <td>3147717</td>\n",
       "    </tr>\n",
       "    <tr>\n",
       "      <th>Bilingual Program</th>\n",
       "      <td>9599</td>\n",
       "      <td>0</td>\n",
       "      <td>0</td>\n",
       "      <td>2706</td>\n",
       "      <td>231026</td>\n",
       "    </tr>\n",
       "    <tr>\n",
       "      <th>High School Allotment</th>\n",
       "      <td>40285</td>\n",
       "      <td>101243</td>\n",
       "      <td>59567</td>\n",
       "      <td>48748</td>\n",
       "      <td>302531</td>\n",
       "    </tr>\n",
       "    <tr>\n",
       "      <th>Pre-K</th>\n",
       "      <td>32890</td>\n",
       "      <td>0</td>\n",
       "      <td>114404</td>\n",
       "      <td>29920</td>\n",
       "      <td>923035</td>\n",
       "    </tr>\n",
       "    <tr>\n",
       "      <th>Pre-K Bilingual</th>\n",
       "      <td>0</td>\n",
       "      <td>0</td>\n",
       "      <td>0</td>\n",
       "      <td>0</td>\n",
       "      <td>0</td>\n",
       "    </tr>\n",
       "    <tr>\n",
       "      <th>Pre-K Comp Ed</th>\n",
       "      <td>0</td>\n",
       "      <td>0</td>\n",
       "      <td>0</td>\n",
       "      <td>0</td>\n",
       "      <td>0</td>\n",
       "    </tr>\n",
       "    <tr>\n",
       "      <th>Pre-K Regular</th>\n",
       "      <td>0</td>\n",
       "      <td>0</td>\n",
       "      <td>0</td>\n",
       "      <td>22400</td>\n",
       "      <td>52678</td>\n",
       "    </tr>\n",
       "    <tr>\n",
       "      <th>Pre-K Special Education</th>\n",
       "      <td>0</td>\n",
       "      <td>0</td>\n",
       "      <td>0</td>\n",
       "      <td>0</td>\n",
       "      <td>0</td>\n",
       "    </tr>\n",
       "    <tr>\n",
       "      <th>Athletics Program</th>\n",
       "      <td>304174</td>\n",
       "      <td>339045</td>\n",
       "      <td>571388</td>\n",
       "      <td>0</td>\n",
       "      <td>1214433</td>\n",
       "    </tr>\n",
       "    <tr>\n",
       "      <th>Undistributed Program</th>\n",
       "      <td>1858660</td>\n",
       "      <td>3262276</td>\n",
       "      <td>2445660</td>\n",
       "      <td>1412589</td>\n",
       "      <td>10940857</td>\n",
       "    </tr>\n",
       "    <tr>\n",
       "      <th>Other Uses</th>\n",
       "      <td>48633</td>\n",
       "      <td>102465</td>\n",
       "      <td>481</td>\n",
       "      <td>53786</td>\n",
       "      <td>0</td>\n",
       "    </tr>\n",
       "  </tbody>\n",
       "</table>\n",
       "</div>"
      ],
      "text/plain": [
       "                                   12       27       42       57        72\n",
       "District                        01902    01903    01904    01906     01907\n",
       "Payroll                       6025217  9093950  6659596  3134475  25587063\n",
       "Professional & Contracted     1075904  1514689   927209   373513   5603896\n",
       "Supplies & Materials           648206   784631   937810   408024   4134969\n",
       "Other Operating                809559   303052   278109   105878   1048416\n",
       "Instruction & Transfer        4649118  7043892  4611747  2087166  18807861\n",
       "Instructional Resource Media    66490   117860    51126    19990    167823\n",
       "Curriculum/Staff Development     4986    33175   157830        0    535649\n",
       "Instructional Leadership       270353    66374        0     7905   1033275\n",
       "Campus Administration          306385   574699   466345   379101   2201907\n",
       "Guidance & Counseling          998314   202086   199338    75235   1443630\n",
       "Social Work                         0        0        0        0    170074\n",
       "Health Services                 37882    33657   102385    40628    208736\n",
       "Transportation                 293070   422887    38800   148301   1442619\n",
       "Food Service                   287406   630202   411195   257465   2071781\n",
       "Extracurricular                413755   598484   754465   210240   1422648\n",
       "General Administration         284553   558948   539512   201520   1287489\n",
       "Plant Maintenance/Operation    773085  1248908  1014501   465549   3937087\n",
       "Security & Monitoring               0    13530    45482    10415    242658\n",
       "Data Processing                173489   151120   409998   118375   1006175\n",
       "Community Services                  0      500        0        0    394932\n",
       "Regular Program               2778638  5313722  3945494  1499301  15527277\n",
       "Gifted & Talented Program        3968       93    10154    14498     39671\n",
       "Career & Technology Program    251350   852319   552217   164641   1625090\n",
       "Students with Disabilities    3005575  1028587   726827   447072   2422707\n",
       "State Compensatory Education   273747   799037   377013   402415   3147717\n",
       "Bilingual Program                9599        0        0     2706    231026\n",
       "High School Allotment           40285   101243    59567    48748    302531\n",
       "Pre-K                           32890        0   114404    29920    923035\n",
       "Pre-K Bilingual                     0        0        0        0         0\n",
       "Pre-K Comp Ed                       0        0        0        0         0\n",
       "Pre-K Regular                       0        0        0    22400     52678\n",
       "Pre-K Special Education             0        0        0        0         0\n",
       "Athletics Program              304174   339045   571388        0   1214433\n",
       "Undistributed Program         1858660  3262276  2445660  1412589  10940857\n",
       "Other Uses                      48633   102465      481    53786         0"
      ]
     },
     "execution_count": 38,
     "metadata": {},
     "output_type": "execute_result"
    }
   ],
   "source": [
    "peims.head().T"
   ]
  },
  {
   "cell_type": "code",
   "execution_count": 39,
   "id": "20242b35",
   "metadata": {},
   "outputs": [
    {
     "data": {
      "text/plain": [
       "(3593, 3)"
      ]
     },
     "execution_count": 39,
     "metadata": {},
     "output_type": "execute_result"
    },
    {
     "data": {
      "text/plain": [
       "(1200, 36)"
      ]
     },
     "execution_count": 39,
     "metadata": {},
     "output_type": "execute_result"
    }
   ],
   "source": [
    "staar.shape\n",
    "peims.shape"
   ]
  },
  {
   "cell_type": "code",
   "execution_count": 40,
   "id": "edcb720b",
   "metadata": {},
   "outputs": [],
   "source": [
    "staar.to_csv('../data/inter/clean_staar_2019.csv', index=False)\n",
    "peims.to_csv('../data/inter/clean_peims_2019.csv', index=False)"
   ]
  },
  {
   "cell_type": "code",
   "execution_count": null,
   "id": "ef7d5790",
   "metadata": {},
   "outputs": [],
   "source": []
  }
 ],
 "metadata": {
  "kernelspec": {
   "display_name": "Python 3 (ipykernel)",
   "language": "python",
   "name": "python3"
  },
  "language_info": {
   "codemirror_mode": {
    "name": "ipython",
    "version": 3
   },
   "file_extension": ".py",
   "mimetype": "text/x-python",
   "name": "python",
   "nbconvert_exporter": "python",
   "pygments_lexer": "ipython3",
   "version": "3.9.9"
  }
 },
 "nbformat": 4,
 "nbformat_minor": 5
}
