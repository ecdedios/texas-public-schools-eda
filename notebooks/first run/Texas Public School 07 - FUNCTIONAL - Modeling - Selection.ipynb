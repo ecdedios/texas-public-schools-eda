{
 "cells": [
  {
   "cell_type": "markdown",
   "id": "ab66dc01",
   "metadata": {},
   "source": [
    "# Executive Summary\n",
    "\n",
    "This notebook will attempt to answer the following research question:\n",
    "\n",
    "    What's money got to do with it?"
   ]
  },
  {
   "cell_type": "markdown",
   "id": "e592e0d9",
   "metadata": {},
   "source": [
    "## PLANNING\n",
    "\n",
    "- [X] Planning\n",
    "    - [X] import libraries/packages\n",
    "    - [X] configure notebook environment\n",
    "    - [X] define helper functions\n",
    "- [X] Acquire data\n",
    "    - [X] get PEIMS financial data\n",
    "    - [X] get STAAR performance data\n",
    "- [X] Prepare the data\n",
    "    - [X] prepare PEIMS data\n",
    "        - [X] get rid of unwanted columns\n",
    "        - [x] get rid of NaNs\n",
    "    - [X] prepare STAAR data\n",
    "        - [X] get rid of duplicates\n",
    "        - [X] get rid of unwanted columns\n",
    "        - [X] get rid of NaNs\n",
    "        - [X] create new columns\n",
    "        - [X] merge two datasets together\n",
    "- [X] Explore the data\n",
    "    - [X] get to know the master dataset\n",
    "    - [X] feature engineering\n",
    "- [X] Modeling\n",
    "    - [X] create, fit, use XGBoost\n",
    "    - [X] gridsearch\n",
    "    - [X] retrain model using best hyperparameters\n",
    "    - [X] extract feature importances"
   ]
  },
  {
   "cell_type": "code",
   "execution_count": 1,
   "id": "c6b0a068",
   "metadata": {},
   "outputs": [],
   "source": [
    "# for manipulating dataframes\n",
    "import pandas as pd\n",
    "import numpy as np\n",
    "\n",
    "# For hypothesis testing\n",
    "from scipy import stats\n",
    "from scipy.stats import shapiro\n",
    "\n",
    "# For data preparation\n",
    "from sklearn.model_selection import train_test_split\n",
    "\n",
    "# For modeling\n",
    "import xgboost as xgb\n",
    "from xgboost import XGBClassifier\n",
    "from sklearn.metrics import accuracy_score\n",
    "from xgboost import plot_importance\n",
    "from sklearn.metrics import roc_auc_score\n",
    "from sklearn.metrics import roc_curve, auc\n",
    "\n",
    "# for visualizations\n",
    "%matplotlib inline\n",
    "import matplotlib.pyplot as plt\n",
    "import seaborn as sns\n",
    "\n",
    "# to print out all the outputs\n",
    "from IPython.core.interactiveshell import InteractiveShell\n",
    "InteractiveShell.ast_node_interactivity = \"all\"\n",
    "\n",
    "# set display options\n",
    "pd.set_option('display.max_columns', None)\n",
    "pd.set_option('display.max_rows', None)\n",
    "pd.set_option('display.max_colwidth', None)\n",
    "\n",
    "ALPHA = 0.05"
   ]
  },
  {
   "cell_type": "code",
   "execution_count": 2,
   "id": "33717b01",
   "metadata": {},
   "outputs": [],
   "source": [
    "def viz_correlation(df, graph_title, *cols):\n",
    "     \n",
    "    dfx = df[list(cols)]\n",
    "    \n",
    "    # Use the default Pearson for continuous variables\n",
    "    corr_matrix = dfx.corr(method ='pearson')\n",
    "\n",
    "    # Setup\n",
    "    fig, ax = plt.subplots(figsize=(16,8))\n",
    "\n",
    "    # vmin and vmax control the range of the colormap\n",
    "    sns.heatmap(corr_matrix, cmap='RdBu', annot=True, fmt='.2f',\n",
    "               vmin=-1, vmax=1)\n",
    "\n",
    "    plt.title(graph_title)\n",
    "\n",
    "    # Add tight_layout to ensure the labels don't get cut off\n",
    "    plt.tight_layout()\n",
    "    plt.show()"
   ]
  },
  {
   "cell_type": "code",
   "execution_count": 3,
   "id": "77ca159d",
   "metadata": {},
   "outputs": [],
   "source": [
    "def viz_scatter(df, graph_title, col1, col2):\n",
    "    plt.figure(figsize=(16, 8))\n",
    "    plt.scatter(df[col1], df[col2], alpha=0.5)\n",
    "    plt.xlabel(col1) #x label\n",
    "    plt.ylabel(col2) #y label\n",
    "    plt.title(graph_title)\n",
    "    plt.show()"
   ]
  },
  {
   "cell_type": "code",
   "execution_count": 4,
   "id": "1587a4f7",
   "metadata": {},
   "outputs": [],
   "source": [
    "def viz_pairplot(df, graph_title, *cols):\n",
    "     \n",
    "    dfx = df[list(cols)]\n",
    "    plt.figure(figsize=(16, 8))\n",
    "    sns.pairplot(dfx)\n",
    "    plt.title(graph_title)\n",
    "    plt.show()"
   ]
  },
  {
   "cell_type": "code",
   "execution_count": 5,
   "id": "3503ed25",
   "metadata": {},
   "outputs": [],
   "source": [
    "def loop_levene(df1, df2):\n",
    "    for column in df1.columns:\n",
    "        result = stats.levene(df1[column], df2[column])[1]\n",
    "        if result > ALPHA:\n",
    "            interpretation = 'insignificant - HOMOGENOUS'\n",
    "        else:\n",
    "            interpretation = 'significant - HETEROGENOUS'\n",
    "        print(result, '-', column, ' - ', interpretation)"
   ]
  },
  {
   "cell_type": "code",
   "execution_count": 6,
   "id": "f3a558f2",
   "metadata": {},
   "outputs": [],
   "source": [
    "def loop_shapiro(df):\n",
    "    for column in df.columns:\n",
    "        statistic, result = shapiro(df[column])\n",
    "        if result > ALPHA:\n",
    "            interpretation = 'insignificant - NORMAL'\n",
    "        else:\n",
    "            interpretation = 'significant - ABNORMAL'\n",
    "        print(result, '-', column, ' - ', interpretation)"
   ]
  },
  {
   "cell_type": "code",
   "execution_count": 7,
   "id": "477708d7",
   "metadata": {},
   "outputs": [],
   "source": [
    "def loop_ttest(df1, df2):\n",
    "    for column in df1.columns:\n",
    "        result = stats.ttest_ind(df1[column], df2[column])[1]\n",
    "        if result > ALPHA:\n",
    "            interpretation = 'insignificant - SAME'\n",
    "        else:\n",
    "            interpretation = 'significant - DIFFERENT'\n",
    "        print(result, '-', column, ' - ', interpretation)"
   ]
  },
  {
   "cell_type": "code",
   "execution_count": 8,
   "id": "caa8edf3",
   "metadata": {},
   "outputs": [],
   "source": [
    "def viz_boxplot(df, col1, col2, graph_title):\n",
    "    plt.figure(figsize=(16, 8))\n",
    "    sns.boxplot(x = col1, y = col2, data = df)\n",
    "    plt.title(graph_title)\n",
    "    plt.show()"
   ]
  },
  {
   "cell_type": "code",
   "execution_count": 9,
   "id": "03b1d941",
   "metadata": {},
   "outputs": [],
   "source": [
    "def viz_violin(df, col1, col2, graph_title):\n",
    "    plt.figure(figsize=(16, 8))\n",
    "    sns.violinplot(x = col1, y = col2, data = df)\n",
    "    plt.title(graph_title)\n",
    "    plt.show()"
   ]
  },
  {
   "cell_type": "markdown",
   "id": "60977796",
   "metadata": {},
   "source": [
    "## ACQUIRE DATA"
   ]
  },
  {
   "cell_type": "code",
   "execution_count": 10,
   "id": "96956fcb",
   "metadata": {
    "scrolled": true
   },
   "outputs": [],
   "source": [
    "# Get the combined PEIMS and STAAR datasets\n",
    "df = pd.read_csv('../data/inter/clean_2019.csv')"
   ]
  },
  {
   "cell_type": "code",
   "execution_count": 11,
   "id": "6a8832df",
   "metadata": {},
   "outputs": [
    {
     "data": {
      "text/html": [
       "<div>\n",
       "<style scoped>\n",
       "    .dataframe tbody tr th:only-of-type {\n",
       "        vertical-align: middle;\n",
       "    }\n",
       "\n",
       "    .dataframe tbody tr th {\n",
       "        vertical-align: top;\n",
       "    }\n",
       "\n",
       "    .dataframe thead th {\n",
       "        text-align: right;\n",
       "    }\n",
       "</style>\n",
       "<table border=\"1\" class=\"dataframe\">\n",
       "  <thead>\n",
       "    <tr style=\"text-align: right;\">\n",
       "      <th></th>\n",
       "      <th>State Compensatory Education</th>\n",
       "      <th>Instructional Resource Media</th>\n",
       "      <th>Transporation</th>\n",
       "      <th>Curriculum/Staff Development</th>\n",
       "      <th>Extracurricular</th>\n",
       "      <th>Other Operating</th>\n",
       "      <th>Bilingual Program</th>\n",
       "      <th>Security &amp; Monitoring</th>\n",
       "      <th>Other Uses</th>\n",
       "      <th>Pre-K</th>\n",
       "      <th>High School Allotment</th>\n",
       "      <th>Guidance &amp; Counseling</th>\n",
       "      <th>General Administration</th>\n",
       "      <th>Food Service</th>\n",
       "      <th>Health Services</th>\n",
       "      <th>Professional &amp; Contracted</th>\n",
       "      <th>Efficient</th>\n",
       "    </tr>\n",
       "  </thead>\n",
       "  <tbody>\n",
       "    <tr>\n",
       "      <th>0</th>\n",
       "      <td>273747</td>\n",
       "      <td>66490</td>\n",
       "      <td>293070</td>\n",
       "      <td>4986</td>\n",
       "      <td>413755</td>\n",
       "      <td>809559</td>\n",
       "      <td>9599</td>\n",
       "      <td>0</td>\n",
       "      <td>48633</td>\n",
       "      <td>32890</td>\n",
       "      <td>40285</td>\n",
       "      <td>998314</td>\n",
       "      <td>284553</td>\n",
       "      <td>287406</td>\n",
       "      <td>37882</td>\n",
       "      <td>1075904</td>\n",
       "      <td>0</td>\n",
       "    </tr>\n",
       "    <tr>\n",
       "      <th>1</th>\n",
       "      <td>799037</td>\n",
       "      <td>117860</td>\n",
       "      <td>422887</td>\n",
       "      <td>33175</td>\n",
       "      <td>598484</td>\n",
       "      <td>303052</td>\n",
       "      <td>0</td>\n",
       "      <td>13530</td>\n",
       "      <td>102465</td>\n",
       "      <td>0</td>\n",
       "      <td>101243</td>\n",
       "      <td>202086</td>\n",
       "      <td>558948</td>\n",
       "      <td>630202</td>\n",
       "      <td>33657</td>\n",
       "      <td>1514689</td>\n",
       "      <td>0</td>\n",
       "    </tr>\n",
       "    <tr>\n",
       "      <th>2</th>\n",
       "      <td>377013</td>\n",
       "      <td>51126</td>\n",
       "      <td>38800</td>\n",
       "      <td>157830</td>\n",
       "      <td>754465</td>\n",
       "      <td>278109</td>\n",
       "      <td>0</td>\n",
       "      <td>45482</td>\n",
       "      <td>481</td>\n",
       "      <td>114404</td>\n",
       "      <td>59567</td>\n",
       "      <td>199338</td>\n",
       "      <td>539512</td>\n",
       "      <td>411195</td>\n",
       "      <td>102385</td>\n",
       "      <td>927209</td>\n",
       "      <td>0</td>\n",
       "    </tr>\n",
       "    <tr>\n",
       "      <th>3</th>\n",
       "      <td>402415</td>\n",
       "      <td>19990</td>\n",
       "      <td>148301</td>\n",
       "      <td>0</td>\n",
       "      <td>210240</td>\n",
       "      <td>105878</td>\n",
       "      <td>2706</td>\n",
       "      <td>10415</td>\n",
       "      <td>53786</td>\n",
       "      <td>29920</td>\n",
       "      <td>48748</td>\n",
       "      <td>75235</td>\n",
       "      <td>201520</td>\n",
       "      <td>257465</td>\n",
       "      <td>40628</td>\n",
       "      <td>373513</td>\n",
       "      <td>0</td>\n",
       "    </tr>\n",
       "    <tr>\n",
       "      <th>4</th>\n",
       "      <td>3147717</td>\n",
       "      <td>167823</td>\n",
       "      <td>1442619</td>\n",
       "      <td>535649</td>\n",
       "      <td>1422648</td>\n",
       "      <td>1048416</td>\n",
       "      <td>231026</td>\n",
       "      <td>242658</td>\n",
       "      <td>0</td>\n",
       "      <td>923035</td>\n",
       "      <td>302531</td>\n",
       "      <td>1443630</td>\n",
       "      <td>1287489</td>\n",
       "      <td>2071781</td>\n",
       "      <td>208736</td>\n",
       "      <td>5603896</td>\n",
       "      <td>0</td>\n",
       "    </tr>\n",
       "  </tbody>\n",
       "</table>\n",
       "</div>"
      ],
      "text/plain": [
       "   State Compensatory Education  Instructional Resource Media  Transporation  \\\n",
       "0                        273747                         66490         293070   \n",
       "1                        799037                        117860         422887   \n",
       "2                        377013                         51126          38800   \n",
       "3                        402415                         19990         148301   \n",
       "4                       3147717                        167823        1442619   \n",
       "\n",
       "   Curriculum/Staff Development  Extracurricular  Other Operating  \\\n",
       "0                          4986           413755           809559   \n",
       "1                         33175           598484           303052   \n",
       "2                        157830           754465           278109   \n",
       "3                             0           210240           105878   \n",
       "4                        535649          1422648          1048416   \n",
       "\n",
       "   Bilingual Program  Security & Monitoring  Other Uses   Pre-K  \\\n",
       "0               9599                      0       48633   32890   \n",
       "1                  0                  13530      102465       0   \n",
       "2                  0                  45482         481  114404   \n",
       "3               2706                  10415       53786   29920   \n",
       "4             231026                 242658           0  923035   \n",
       "\n",
       "   High School Allotment  Guidance & Counseling  General Administration  \\\n",
       "0                  40285                 998314                  284553   \n",
       "1                 101243                 202086                  558948   \n",
       "2                  59567                 199338                  539512   \n",
       "3                  48748                  75235                  201520   \n",
       "4                 302531                1443630                 1287489   \n",
       "\n",
       "   Food Service  Health Services  Professional & Contracted  Efficient  \n",
       "0        287406            37882                    1075904          0  \n",
       "1        630202            33657                    1514689          0  \n",
       "2        411195           102385                     927209          0  \n",
       "3        257465            40628                     373513          0  \n",
       "4       2071781           208736                    5603896          0  "
      ]
     },
     "execution_count": 11,
     "metadata": {},
     "output_type": "execute_result"
    }
   ],
   "source": [
    "df.head()"
   ]
  },
  {
   "cell_type": "markdown",
   "id": "bb8c5b45",
   "metadata": {},
   "source": [
    "## PREPARATION"
   ]
  },
  {
   "cell_type": "code",
   "execution_count": 12,
   "id": "f0618a7f",
   "metadata": {},
   "outputs": [],
   "source": [
    "X = df.drop(\"Efficient\", axis=1)\n",
    "y = df['Efficient']"
   ]
  },
  {
   "cell_type": "code",
   "execution_count": 13,
   "id": "5474e65b",
   "metadata": {},
   "outputs": [],
   "source": [
    "X_train, X_test, y_train, y_test = train_test_split(X, y, test_size=0.3, random_state=493, stratify=y)"
   ]
  },
  {
   "cell_type": "markdown",
   "id": "be787531",
   "metadata": {},
   "source": [
    "## MODELING"
   ]
  },
  {
   "cell_type": "code",
   "execution_count": 14,
   "id": "c98b9566",
   "metadata": {},
   "outputs": [
    {
     "data": {
      "text/html": [
       "<style>#sk-container-id-1 {color: black;background-color: white;}#sk-container-id-1 pre{padding: 0;}#sk-container-id-1 div.sk-toggleable {background-color: white;}#sk-container-id-1 label.sk-toggleable__label {cursor: pointer;display: block;width: 100%;margin-bottom: 0;padding: 0.3em;box-sizing: border-box;text-align: center;}#sk-container-id-1 label.sk-toggleable__label-arrow:before {content: \"▸\";float: left;margin-right: 0.25em;color: #696969;}#sk-container-id-1 label.sk-toggleable__label-arrow:hover:before {color: black;}#sk-container-id-1 div.sk-estimator:hover label.sk-toggleable__label-arrow:before {color: black;}#sk-container-id-1 div.sk-toggleable__content {max-height: 0;max-width: 0;overflow: hidden;text-align: left;background-color: #f0f8ff;}#sk-container-id-1 div.sk-toggleable__content pre {margin: 0.2em;color: black;border-radius: 0.25em;background-color: #f0f8ff;}#sk-container-id-1 input.sk-toggleable__control:checked~div.sk-toggleable__content {max-height: 200px;max-width: 100%;overflow: auto;}#sk-container-id-1 input.sk-toggleable__control:checked~label.sk-toggleable__label-arrow:before {content: \"▾\";}#sk-container-id-1 div.sk-estimator input.sk-toggleable__control:checked~label.sk-toggleable__label {background-color: #d4ebff;}#sk-container-id-1 div.sk-label input.sk-toggleable__control:checked~label.sk-toggleable__label {background-color: #d4ebff;}#sk-container-id-1 input.sk-hidden--visually {border: 0;clip: rect(1px 1px 1px 1px);clip: rect(1px, 1px, 1px, 1px);height: 1px;margin: -1px;overflow: hidden;padding: 0;position: absolute;width: 1px;}#sk-container-id-1 div.sk-estimator {font-family: monospace;background-color: #f0f8ff;border: 1px dotted black;border-radius: 0.25em;box-sizing: border-box;margin-bottom: 0.5em;}#sk-container-id-1 div.sk-estimator:hover {background-color: #d4ebff;}#sk-container-id-1 div.sk-parallel-item::after {content: \"\";width: 100%;border-bottom: 1px solid gray;flex-grow: 1;}#sk-container-id-1 div.sk-label:hover label.sk-toggleable__label {background-color: #d4ebff;}#sk-container-id-1 div.sk-serial::before {content: \"\";position: absolute;border-left: 1px solid gray;box-sizing: border-box;top: 0;bottom: 0;left: 50%;z-index: 0;}#sk-container-id-1 div.sk-serial {display: flex;flex-direction: column;align-items: center;background-color: white;padding-right: 0.2em;padding-left: 0.2em;position: relative;}#sk-container-id-1 div.sk-item {position: relative;z-index: 1;}#sk-container-id-1 div.sk-parallel {display: flex;align-items: stretch;justify-content: center;background-color: white;position: relative;}#sk-container-id-1 div.sk-item::before, #sk-container-id-1 div.sk-parallel-item::before {content: \"\";position: absolute;border-left: 1px solid gray;box-sizing: border-box;top: 0;bottom: 0;left: 50%;z-index: -1;}#sk-container-id-1 div.sk-parallel-item {display: flex;flex-direction: column;z-index: 1;position: relative;background-color: white;}#sk-container-id-1 div.sk-parallel-item:first-child::after {align-self: flex-end;width: 50%;}#sk-container-id-1 div.sk-parallel-item:last-child::after {align-self: flex-start;width: 50%;}#sk-container-id-1 div.sk-parallel-item:only-child::after {width: 0;}#sk-container-id-1 div.sk-dashed-wrapped {border: 1px dashed gray;margin: 0 0.4em 0.5em 0.4em;box-sizing: border-box;padding-bottom: 0.4em;background-color: white;}#sk-container-id-1 div.sk-label label {font-family: monospace;font-weight: bold;display: inline-block;line-height: 1.2em;}#sk-container-id-1 div.sk-label-container {text-align: center;}#sk-container-id-1 div.sk-container {/* jupyter's `normalize.less` sets `[hidden] { display: none; }` but bootstrap.min.css set `[hidden] { display: none !important; }` so we also need the `!important` here to be able to override the default hidden behavior on the sphinx rendered scikit-learn.org. See: https://github.com/scikit-learn/scikit-learn/issues/21755 */display: inline-block !important;position: relative;}#sk-container-id-1 div.sk-text-repr-fallback {display: none;}</style><div id=\"sk-container-id-1\" class=\"sk-top-container\"><div class=\"sk-text-repr-fallback\"><pre>XGBClassifier(base_score=0.5, booster=&#x27;gbtree&#x27;, callbacks=None,\n",
       "              colsample_bylevel=1, colsample_bynode=1, colsample_bytree=1,\n",
       "              early_stopping_rounds=None, enable_categorical=False,\n",
       "              eval_metric=None, gamma=0, gpu_id=-1, grow_policy=&#x27;depthwise&#x27;,\n",
       "              importance_type=None, interaction_constraints=&#x27;&#x27;,\n",
       "              learning_rate=0.300000012, max_bin=256, max_cat_to_onehot=4,\n",
       "              max_delta_step=0, max_depth=6, max_leaves=0, min_child_weight=1,\n",
       "              missing=nan, monotone_constraints=&#x27;()&#x27;, n_estimators=100,\n",
       "              n_jobs=0, num_parallel_tree=1, predictor=&#x27;auto&#x27;, random_state=493,\n",
       "              reg_alpha=0, reg_lambda=1, ...)</pre><b>In a Jupyter environment, please rerun this cell to show the HTML representation or trust the notebook. <br />On GitHub, the HTML representation is unable to render, please try loading this page with nbviewer.org.</b></div><div class=\"sk-container\" hidden><div class=\"sk-item\"><div class=\"sk-estimator sk-toggleable\"><input class=\"sk-toggleable__control sk-hidden--visually\" id=\"sk-estimator-id-1\" type=\"checkbox\" checked><label for=\"sk-estimator-id-1\" class=\"sk-toggleable__label sk-toggleable__label-arrow\">XGBClassifier</label><div class=\"sk-toggleable__content\"><pre>XGBClassifier(base_score=0.5, booster=&#x27;gbtree&#x27;, callbacks=None,\n",
       "              colsample_bylevel=1, colsample_bynode=1, colsample_bytree=1,\n",
       "              early_stopping_rounds=None, enable_categorical=False,\n",
       "              eval_metric=None, gamma=0, gpu_id=-1, grow_policy=&#x27;depthwise&#x27;,\n",
       "              importance_type=None, interaction_constraints=&#x27;&#x27;,\n",
       "              learning_rate=0.300000012, max_bin=256, max_cat_to_onehot=4,\n",
       "              max_delta_step=0, max_depth=6, max_leaves=0, min_child_weight=1,\n",
       "              missing=nan, monotone_constraints=&#x27;()&#x27;, n_estimators=100,\n",
       "              n_jobs=0, num_parallel_tree=1, predictor=&#x27;auto&#x27;, random_state=493,\n",
       "              reg_alpha=0, reg_lambda=1, ...)</pre></div></div></div></div></div>"
      ],
      "text/plain": [
       "XGBClassifier(base_score=0.5, booster='gbtree', callbacks=None,\n",
       "              colsample_bylevel=1, colsample_bynode=1, colsample_bytree=1,\n",
       "              early_stopping_rounds=None, enable_categorical=False,\n",
       "              eval_metric=None, gamma=0, gpu_id=-1, grow_policy='depthwise',\n",
       "              importance_type=None, interaction_constraints='',\n",
       "              learning_rate=0.300000012, max_bin=256, max_cat_to_onehot=4,\n",
       "              max_delta_step=0, max_depth=6, max_leaves=0, min_child_weight=1,\n",
       "              missing=nan, monotone_constraints='()', n_estimators=100,\n",
       "              n_jobs=0, num_parallel_tree=1, predictor='auto', random_state=493,\n",
       "              reg_alpha=0, reg_lambda=1, ...)"
      ]
     },
     "execution_count": 14,
     "metadata": {},
     "output_type": "execute_result"
    },
    {
     "data": {
      "text/plain": [
       "0.8027777777777778"
      ]
     },
     "execution_count": 14,
     "metadata": {},
     "output_type": "execute_result"
    }
   ],
   "source": [
    "# Init classifier\n",
    "xgb_cl = xgb.XGBClassifier(random_state=493)\n",
    "\n",
    "# Fit\n",
    "xgb_cl.fit(X_train, y_train)\n",
    "\n",
    "# Predict\n",
    "preds = xgb_cl.predict(X_test)\n",
    "\n",
    "# Score\n",
    "accuracy_score(y_test, preds)"
   ]
  },
  {
   "cell_type": "code",
   "execution_count": 15,
   "id": "a405e330",
   "metadata": {},
   "outputs": [],
   "source": [
    "# make predictions for test data\n",
    "y_pred = xgb_cl.predict(X_test)\n",
    "predictions = [round(value) for value in y_pred]"
   ]
  },
  {
   "cell_type": "code",
   "execution_count": 16,
   "id": "2fa0ec68",
   "metadata": {},
   "outputs": [
    {
     "name": "stdout",
     "output_type": "stream",
     "text": [
      "Accuracy: 80.28%\n"
     ]
    }
   ],
   "source": [
    "# evaluate predictions\n",
    "accuracy = accuracy_score(y_test, predictions)\n",
    "print(\"Accuracy: %.2f%%\" % (accuracy * 100.0))"
   ]
  },
  {
   "cell_type": "code",
   "execution_count": 17,
   "id": "0cd4e00d",
   "metadata": {},
   "outputs": [
    {
     "data": {
      "text/plain": [
       "<AxesSubplot:title={'center':'Feature importance'}, xlabel='F score', ylabel='Features'>"
      ]
     },
     "execution_count": 17,
     "metadata": {},
     "output_type": "execute_result"
    },
    {
     "data": {
      "image/png": "[encoded data removed]",
      "text/plain": [
       "<Figure size 720x1008 with 1 Axes>"
      ]
     },
     "metadata": {
      "needs_background": "light"
     },
     "output_type": "display_data"
    }
   ],
   "source": [
    "fig, ax = plt.subplots(1,1,figsize=(10, 14))\n",
    "plot_importance(booster=xgb_cl, ax=ax)"
   ]
  },
  {
   "cell_type": "code",
   "execution_count": 18,
   "id": "d1a80ef7",
   "metadata": {},
   "outputs": [
    {
     "name": "stdout",
     "output_type": "stream",
     "text": [
      "ROC AUC Score (No Skill): 50.00%\n",
      "ROC AUC Score (Skilled ): 93.97%\n"
     ]
    }
   ],
   "source": [
    "rocauc = roc_auc_score(y, xgb_cl.predict_proba(X)[:, 1])\n",
    "print(\"ROC AUC Score (No Skill): %.2f%%\" % (.5 * 100.0))\n",
    "print(\"ROC AUC Score (Skilled ): %.2f%%\" % (rocauc * 100.0))"
   ]
  },
  {
   "cell_type": "code",
   "execution_count": 19,
   "id": "8a6a69fd",
   "metadata": {},
   "outputs": [
    {
     "data": {
      "text/plain": [
       "[<matplotlib.lines.Line2D at 0x20d81414a90>]"
      ]
     },
     "execution_count": 19,
     "metadata": {},
     "output_type": "execute_result"
    },
    {
     "data": {
      "text/plain": [
       "Text(0, 0.5, 'True Positive Rate')"
      ]
     },
     "execution_count": 19,
     "metadata": {},
     "output_type": "execute_result"
    },
    {
     "data": {
      "text/plain": [
       "Text(0.5, 0, 'False Positive Rate')"
      ]
     },
     "execution_count": 19,
     "metadata": {},
     "output_type": "execute_result"
    },
    {
     "data": {
      "image/png": "[encoded data removed]",
      "text/plain": [
       "<Figure size 432x288 with 1 Axes>"
      ]
     },
     "metadata": {
      "needs_background": "light"
     },
     "output_type": "display_data"
    }
   ],
   "source": [
    "y_pred_proba = xgb_cl.predict_proba(X_test)[::,1]\n",
    "fpr, tpr, _ = roc_curve(y_test,  y_pred_proba)\n",
    "\n",
    "#create ROC curve\n",
    "plt.plot(fpr,tpr)\n",
    "plt.ylabel('True Positive Rate')\n",
    "plt.xlabel('False Positive Rate')\n",
    "plt.show()"
   ]
  },
  {
   "cell_type": "code",
   "execution_count": null,
   "id": "54b84117",
   "metadata": {},
   "outputs": [],
   "source": []
  }
 ],
 "metadata": {
  "kernelspec": {
   "display_name": "Python 3 (ipykernel)",
   "language": "python",
   "name": "python3"
  },
  "language_info": {
   "codemirror_mode": {
    "name": "ipython",
    "version": 3
   },
   "file_extension": ".py",
   "mimetype": "text/x-python",
   "name": "python",
   "nbconvert_exporter": "python",
   "pygments_lexer": "ipython3",
   "version": "3.9.9"
  }
 },
 "nbformat": 4,
 "nbformat_minor": 5
}
